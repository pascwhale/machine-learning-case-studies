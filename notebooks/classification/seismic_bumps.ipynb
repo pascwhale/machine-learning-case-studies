{
 "cells": [
  {
   "cell_type": "markdown",
   "source": [
    "# Seismic Bumps"
   ],
   "metadata": {}
  },
  {
   "cell_type": "markdown",
   "source": [
    "## Description"
   ],
   "metadata": {}
  },
  {
   "cell_type": "markdown",
   "source": [
    "The Seismic-Bumps dataset logs whether a high energy seismic bump occured within the following shift where mining activity has taken place.\r\n",
    "\r\n",
    "The column attributes are as follows:\r\n",
    "| Column Name | Description |\r\n",
    "| - | - |\r\n",
    "| seismic | Seismic assessment result {'a': 'lack of hazard', 'b': 'low hazard', 'c': 'high hazard', 'd': 'danger state'} |\r\n",
    "| seismoacoustic | Seismoacoustic assessment result {'a': 'lack of hazard', 'b': 'low hazard', 'c': 'high hazard', 'd': 'danger state'} |\r\n",
    "| shift_type | Shift type {'W': 'coal-getting', 'N': 'preparation shift'} |\r\n",
    "| energy | Seismic energy recorded within previous shift by the most active geophone (GMax) |\r\n",
    "| npulse | Number of pulses recorded within the previous shift by the most active geophone (GMax) |\r\n",
    "| denergy | Deviation of energy recorded within the previous shift by the most active geophone (GMax) from the average energy recorded during the eight previous shifts |\r\n",
    "| dpulse | Deviation of the number of pulses recorded within the previous shift by the most active geophone (GMax) from the average number of pulses recorded during the eight previous shifts |\r\n",
    "| hazard | Result of shift seismic hazard assessment in the mine working obtained by the seismoacoustic method based on registration coming from the most active geophone (GMax) only |\r\n",
    "| nbumps | Total number of seismic bumps recorded within the previous shift |\r\n",
    "| nbumps2 | Number of seismic bumps registered within the previous shift in the [10^2, 10^3) energy range |\r\n",
    "| nbumps3 | Number of seismic bumps registered within the previous shift in the [10^3, 10^4) energy range |\r\n",
    "| nbumps4 | Number of seismic bumps registered within the previous shift in the [10^4, 10^5) energy range |\r\n",
    "| nbumps5 | Number of seismic bumps registered within the previous shift in the [10^5, 10^6) energy range |\r\n",
    "| nbumps6 | Number of seismic bumps registered within the previous shift in the [10^6, 10^7) energy range |\r\n",
    "| nbumps7 | Number of seismic bumps registered within the previous shift in the [10^7, 10^8) energy range |\r\n",
    "| nbumps8 | Number of seismic bumps registered within the previous shift in the [10^8, 10^10) energy range |\r\n",
    "| t_energy | Total energy of the seismic bumps registered within the previous shift |\r\n",
    "| max_energy | Maximum energy of the seismic bumps registered within the previous shift |\r\n",
    "| is_hazardous | Class label 0 ('non-hazardous state', no high energy seismic bumps occured during the next shift) and 1 ('hazardous state', high energy seismic bumps did occur in the next shift) |\r\n",
    "\r\n",
    "[Source](https://archive.ics.uci.edu/ml/datasets/seismic-bumps)"
   ],
   "metadata": {}
  },
  {
   "cell_type": "markdown",
   "source": [
    "## Importing the Dataset"
   ],
   "metadata": {}
  },
  {
   "cell_type": "code",
   "execution_count": null,
   "source": [
    "import pandas as pd\r\n",
    "from scipy.io import arff\r\n",
    "\r\n",
    "column_names = ['seismic',\r\n",
    "                'seismoacoustic',\r\n",
    "                'shift_type',\r\n",
    "                'energy',\r\n",
    "                'npulse',\r\n",
    "                'denergy',\r\n",
    "                'dpulse',\r\n",
    "                'hazard',\r\n",
    "                'nbumps',\r\n",
    "                'nbumps2',\r\n",
    "                'nbumps3',\r\n",
    "                'nbumps4',\r\n",
    "                'nbumps5',\r\n",
    "                'nbumps6',\r\n",
    "                'nbumps7',\r\n",
    "                'nbumps8',\r\n",
    "                't_energy',\r\n",
    "                'max_energy',\r\n",
    "                'is_hazardous']\r\n",
    "\r\n",
    "with open(\"..\\..\\datasets\\classification\\seismic_bumps.arff\", \"r\") as dataset_file:\r\n",
    "    raw_data, meta = arff.loadarff(dataset_file)"
   ],
   "outputs": [],
   "metadata": {}
  },
  {
   "cell_type": "markdown",
   "source": [
    "## Preparing the Dataset"
   ],
   "metadata": {}
  },
  {
   "cell_type": "code",
   "execution_count": null,
   "source": [
    "# Convert the raw numpy dataset to a pandas DataFrame. This allows for mixed datatypes within the same multidimensional matrix object.\r\n",
    "processed_data = pd.DataFrame(raw_data.tolist(), columns=column_names)\r\n",
    "\r\n",
    "# Decode string columns.\r\n",
    "processed_data['seismic'] = processed_data['seismic'].str.decode('utf-8')\r\n",
    "processed_data['seismoacoustic'] = processed_data['seismoacoustic'].str.decode('utf-8')\r\n",
    "processed_data['shift_type'] = processed_data['shift_type'].str.decode('utf-8')\r\n",
    "processed_data['hazard'] = processed_data['hazard'].str.decode('utf-8')\r\n",
    "\r\n",
    "# Decode integer target column.\r\n",
    "processed_data['is_hazardous'] = processed_data['is_hazardous'].astype(int)"
   ],
   "outputs": [],
   "metadata": {}
  },
  {
   "cell_type": "markdown",
   "source": [
    "The following block prints the shape and column datatypes of the processed dataset."
   ],
   "metadata": {}
  },
  {
   "cell_type": "code",
   "execution_count": null,
   "source": [
    "print(processed_data.shape)\r\n",
    "print(processed_data.dtypes)"
   ],
   "outputs": [],
   "metadata": {}
  }
 ],
 "metadata": {
  "orig_nbformat": 4,
  "language_info": {
   "name": "python",
   "version": "3.9.6",
   "mimetype": "text/x-python",
   "codemirror_mode": {
    "name": "ipython",
    "version": 3
   },
   "pygments_lexer": "ipython3",
   "nbconvert_exporter": "python",
   "file_extension": ".py"
  },
  "kernelspec": {
   "name": "python3",
   "display_name": "Python 3.9.6 64-bit ('comp432': conda)"
  },
  "interpreter": {
   "hash": "6151f332f26dcde9b4e9a2d5bb7904271ea54c2018786e9b563d2c471a54dc4f"
  }
 },
 "nbformat": 4,
 "nbformat_minor": 2
}