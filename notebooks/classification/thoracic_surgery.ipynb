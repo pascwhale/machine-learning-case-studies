{
 "cells": [
  {
   "cell_type": "markdown",
   "metadata": {},
   "source": [
    "# Thoracic Surgery Data Set\n",
    "\n"
   ]
  },
  {
   "cell_type": "markdown",
   "metadata": {},
   "source": [
    "* 470 data points\n",
    "* 16 features,\n",
    "* binary classification (1 year survival period, 1=died, 0=not)\n",
    "* needs to be split manually into train and test --> 70/30 split\n",
    "\n",
    "source: https://archive.ics.uci.edu/ml/datasets/Thoracic+Surgery+Data\n"
   ]
  },
  {
   "cell_type": "code",
   "execution_count": 63,
   "metadata": {},
   "outputs": [],
   "source": [
    "import numpy as np\n",
    "import sklearn.model_selection"
   ]
  },
  {
   "cell_type": "code",
   "execution_count": 64,
   "metadata": {},
   "outputs": [],
   "source": [
    "dataset = np.loadtxt(fname='../../datasets/classification/ThoraricSurgery.arff', delimiter=',', skiprows=21, dtype='str')\n",
    "y = dataset[:, -1] # for last column\n",
    "X = dataset[:, :-1] # for all but last column"
   ]
  },
  {
   "cell_type": "code",
   "execution_count": 65,
   "metadata": {},
   "outputs": [],
   "source": [
    "y[y=='F'] = 0\n",
    "y[y=='T'] = 1\n",
    "\n",
    "y = np.array(y, dtype='int32')\n",
    "\n",
    "X[X=='DGN1'] = 1\n",
    "X[X=='DGN2'] = 2\n",
    "X[X=='DGN3'] = 3\n",
    "X[X=='DGN4'] = 4\n",
    "X[X=='DGN5'] = 5\n",
    "X[X=='DGN6'] = 6\n",
    "X[X=='DGN8'] = 8\n",
    "\n",
    "X[X=='PRZ0'] = 0\n",
    "X[X=='PRZ1'] = 1\n",
    "X[X=='PRZ2'] = 2\n",
    "\n",
    "X[X=='F'] = 0\n",
    "X[X=='T'] = 1\n",
    "\n",
    "X[X=='OC11'] = 11\n",
    "X[X=='OC12'] = 12\n",
    "X[X=='OC13'] = 13\n",
    "X[X=='OC14'] = 14\n",
    "\n",
    "X = np.array(X, dtype='float32')"
   ]
  },
  {
   "cell_type": "code",
   "execution_count": 66,
   "metadata": {},
   "outputs": [],
   "source": [
    "X_train, X_test, y_train, y_test = sklearn.model_selection.train_test_split(X,y, test_size=0.3, random_state=0)"
   ]
  }
 ],
 "metadata": {
  "kernelspec": {
   "display_name": "Python 3.8.8 64-bit ('base': conda)",
   "name": "python388jvsc74a57bd0b9828c955bab0c8fbce05acd98c90b029dc7e02db9d225b15c9f70e3fad9a000"
  },
  "language_info": {
   "codemirror_mode": {
    "name": "ipython",
    "version": 3
   },
   "file_extension": ".py",
   "mimetype": "text/x-python",
   "name": "python",
   "nbconvert_exporter": "python",
   "pygments_lexer": "ipython3",
   "version": "3.8.8"
  },
  "orig_nbformat": 2
 },
 "nbformat": 4,
 "nbformat_minor": 2
}