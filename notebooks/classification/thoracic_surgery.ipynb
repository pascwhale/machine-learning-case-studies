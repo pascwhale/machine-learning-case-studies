{
 "cells": [
  {
   "cell_type": "markdown",
   "metadata": {},
   "source": [
    "# Thoracic Surgery Data Set\n",
    "\n"
   ]
  },
  {
   "cell_type": "markdown",
   "metadata": {},
   "source": [
    "## Description\n",
    "Data related to the post-operative life expectancy in lung cancer patients.\n",
    "\n",
    "The column attributes are as follows:\n",
    "\n",
    "| Id | Attribute |Domain |\n",
    "| -   | ----------- |----------- |\n",
    "| 1   | DGN - Diagnosis | DGN3, DGN2, DGN4, DGN6, DGN5, DGN8, DGN1 |\n",
    "| 2   | PRE4 - Forced vital capacity | numeric |\n",
    "| 3   | PRE5 - Volume that has been exhaled at the end of the first second of forced expiration | numeric |\n",
    "| 4   | PRE6 - Performance status - Zubrod scale | PRZ2,PRZ1,PRZ0 |\n",
    "| 5   | PRE7 - Pain before surgery | T,F |\n",
    "| 6  | PRE8 -  Haemoptysis before surgery | T,F |\n",
    "| 7  | PRE9 - Dyspnoea before surgery | T,F |\n",
    "| 8  | PRE10 - Cough before surgery | T,F |\n",
    "| 9  | PRE11 - Weakness before surgery | T,F |\n",
    "| 10  | PRE14 - T in clinical TNM - size of the original tumour, from OC11 (smallest) to OC14 (largest) | OC11,OC14,OC12,OC13 |\n",
    "| 11  | PRE17 - Type 2 diabetes mellitus | T,F |\n",
    "| 12  | PRE19 - MI up to 6 months | T,F |\n",
    "| 13  | PRE25 - peripheral arterial diseases | T,F |\n",
    "| 14  | PRE30 - Smoking | T,F |\n",
    "| 15  | PRE32 - Asthma | T,F |\n",
    "| 16  | Age - Age at surgery | numeric |\n",
    "| 17  | Risk1Y - 1 year survival period | T,F |\n",
    "\n",
    "source: https://archive.ics.uci.edu/ml/datasets/Thoracic+Surgery+Data\n"
   ]
  },
  {
   "cell_type": "markdown",
   "metadata": {},
   "source": [
    "## Importin and processing dataset"
   ]
  },
  {
   "cell_type": "code",
   "execution_count": 37,
   "metadata": {},
   "outputs": [],
   "source": [
    "import os                        # for os.path.exists\n",
    "import json                      # for loading metadata\n",
    "import urllib                    # for downloading remote files \n",
    "import numpy as np\n",
    "import pandas as pd\n",
    "from scipy.io import arff"
   ]
  },
  {
   "cell_type": "code",
   "execution_count": 38,
   "metadata": {},
   "outputs": [],
   "source": [
    "def download(remoteurl: str, localfile: str):\n",
    "    \"\"\"\n",
    "    Download remoteurl to localfile, unless localfile already exists.\n",
    "    Returns the localfile string.\n",
    "    \"\"\"\n",
    "    localfile = \"../../datasets/classification/\"+localfile\n",
    "    if not os.path.exists(localfile):\n",
    "        print(\"Downloading %s...\" % localfile)\n",
    "        filename, headers = urllib.request.urlretrieve(remoteurl, localfile)\n",
    "    return localfile"
   ]
  },
  {
   "cell_type": "code",
   "execution_count": 39,
   "metadata": {},
   "outputs": [],
   "source": [
    "data_file = download(\"https://archive.ics.uci.edu/ml/machine-learning-databases/00277/ThoraricSurgery.arff\", \"ThoracicSurgery.arff\")\n",
    "\n",
    "arff_data = arff.loadarff(data_file)\n",
    "\n",
    "column_names = [\n",
    "    'DGN',\n",
    "    'PRE4',\n",
    "    'PRE5',\n",
    "    'PRE6',\n",
    "    'PRE7',\n",
    "    'PRE8',\n",
    "    'PRE9',\n",
    "    'PRE10',\n",
    "    'PRE11',\n",
    "    'PRE14',\n",
    "    'PRE17',\n",
    "    'PRE19',\n",
    "    'PRE25',\n",
    "    'PRE30',\n",
    "    'PRE32',\n",
    "    'AGE',\n",
    "    'Risk1Yr']\n",
    "\n",
    "cat_columns = ['DGN',\n",
    "    'PRE6',\n",
    "    'PRE7',\n",
    "    'PRE8',\n",
    "    'PRE9',\n",
    "    'PRE10',\n",
    "    'PRE11',\n",
    "    'PRE14',\n",
    "    'PRE17',\n",
    "    'PRE19',\n",
    "    'PRE25',\n",
    "    'PRE30',\n",
    "    'PRE32',\n",
    "    'Risk1Yr']\n",
    "\n",
    "data = pd.DataFrame(arff_data[0].tolist(), columns=column_names)\n",
    "\n",
    "for cat_col in cat_columns: \n",
    "    data[cat_col] = data[cat_col].str.decode('utf-8')\n",
    "    data[cat_col] = pd.Categorical(data[cat_col])\n",
    "    data[cat_col] = data[cat_col].cat.codes   \n",
    "\n",
    "data = data.replace(\"?\", np.nan) \n",
    "data = data.dropna() \n",
    "\n",
    "X = (data.iloc[:,:data.shape[1]-1])\n",
    "y = (data.iloc[:,data.shape[1]-1:])\n",
    "\n",
    "X = X.to_numpy()\n",
    "y = y.to_numpy().flatten()"
   ]
  },
  {
   "cell_type": "markdown",
   "metadata": {},
   "source": [
    "## Importing libraries"
   ]
  },
  {
   "cell_type": "code",
   "execution_count": 40,
   "metadata": {},
   "outputs": [],
   "source": [
    "import matplotlib as mpl\n",
    "import matplotlib.pyplot as plt\n",
    "import sklearn\n",
    "import sklearn.tree\n",
    "import sklearn.neighbors\n",
    "import sklearn.ensemble\n",
    "from sklearn.naive_bayes import GaussianNB\n",
    "from sklearn.linear_model import LogisticRegression\n",
    "from sklearn.model_selection import train_test_split"
   ]
  },
  {
   "cell_type": "code",
   "execution_count": 41,
   "metadata": {},
   "outputs": [],
   "source": [
    "X_train, X_test, y_train, y_test = train_test_split(X,y, test_size=0.3, random_state=0)"
   ]
  }
 ],
 "metadata": {
  "kernelspec": {
   "display_name": "Python 3.8.8 64-bit ('base': conda)",
   "name": "python388jvsc74a57bd0b9828c955bab0c8fbce05acd98c90b029dc7e02db9d225b15c9f70e3fad9a000"
  },
  "language_info": {
   "codemirror_mode": {
    "name": "ipython",
    "version": 3
   },
   "file_extension": ".py",
   "mimetype": "text/x-python",
   "name": "python",
   "nbconvert_exporter": "python",
   "pygments_lexer": "ipython3",
   "version": "3.8.8"
  },
  "orig_nbformat": 2
 },
 "nbformat": 4,
 "nbformat_minor": 2
}