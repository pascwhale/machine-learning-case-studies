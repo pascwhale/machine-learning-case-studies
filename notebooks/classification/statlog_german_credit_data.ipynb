{
 "cells": [
  {
   "cell_type": "markdown",
   "metadata": {},
   "source": [
    "# Statlog (German Credit Data) Data Set\n",
    "## Description\n",
    "Classifies people described by a set of attributes as good or bad credit risks.\n",
    "\n",
    "The column attributes are as follows:\n",
    "\n",
    "| Id | Attribute |Domain |\n",
    "| -   | ----------- |----------- |\n",
    "| 1   | Status of existing checking account | A11 : ... < 0 DM, A12 : 0 <= ... < 200 DM, A13 : ... >= 200 DM / salary assignments for at least 1 year, A14 : no checking account |\n",
    "| 2   | Duration in months | numerical |\n",
    "| 3   | Credit history | A30 : no credits taken/ all credits paid back duly, A31 : all credits at this bank paid back duly, A32 : existing credits paid back duly till now, A33 : delay in paying off in the past, A34 : critical account/ other credits existing (not at this bank) |\n",
    "| 4   | Purpose | A40 : car (new), A41 : car (used), A42 : furniture/equipment, A43 : radio/television, A44 : domestic appliances, A45 : repairs, A46 : education, A47 : (vacation - does not exist?), A48 : retraining, A49 : business, A410 : others |\n",
    "| 5   | Credit amount | numerical  |\n",
    "| 6   | Savings account/bonds | A61 : ... < 100 DM, A62 : 100 <= ... < 500 DM, A63 : 500 <= ... < 1000 DM, A64 : .. >= 1000 DM, A65 : unknown/ no savings account |\n",
    "| 7   | Present employment since | A71 : unemployed, A72 : ... < 1 year, A73 : 1 <= ... < 4 years, A74 : 4 <= ... < 7 years, A75 : .. >= 7 years |\n",
    "| 8   | Installment rate in percentage of disposable income | numerical |\n",
    "| 9   | Personal status and sex | A91 : male : divorced/separated, A92 : female : divorced/separated/married, A93 : male : single, A94 : male : married/widowed, A95 : female : single |\n",
    "| 10   | Other debtors/guarantors | A101 : none, A102 : co-applicant, A103 : guarantor |\n",
    "| 11   | Present residence since | numerical |\n",
    "| 12   | Property | A121 : real estate, A122 : if not A121 : building society savings agreement/ life insurance, A123 : if not A121/A122 : car or other, not in attribute 6, A124 : unknown / no property |\n",
    "| 13   | Age in years | numerical |\n",
    "| 14   | Other installment plans | A141 : bank, A142 : stores, A143 : none |\n",
    "| 15   | Housing | A151 : rent, A152 : own, A153 : for free |\n",
    "| 16   | Number of existing credits at this bank | numerical |\n",
    "| 17   | Job | A171 : unemployed/ unskilled - non-resident, A172 : unskilled - resident, A173 : skilled employee / official, A174 : management/ self-employed/, highly qualified employee/ officer |\n",
    "| 18   | Number of people being liable to provide maintenance for | numerical |\n",
    "| 19   | Telephone | A191 : none, A192 : yes, registered under the customers name |\n",
    "| 20   | Foreign worker | A201 : yes, A202 : no |"
   ]
  },
  {
   "cell_type": "markdown",
   "metadata": {},
   "source": [
    "## Importin and processing dataset"
   ]
  },
  {
   "cell_type": "code",
   "execution_count": 8,
   "metadata": {},
   "outputs": [],
   "source": [
    "import os                        # for os.path.exists\n",
    "import json                      # for loading metadata\n",
    "import urllib                    # for downloading remote files \n",
    "import numpy as np\n",
    "import pandas as pd"
   ]
  },
  {
   "cell_type": "code",
   "execution_count": 6,
   "metadata": {},
   "outputs": [],
   "source": [
    "def download(remoteurl: str, localfile: str):\n",
    "    \"\"\"\n",
    "    Download remoteurl to localfile, unless localfile already exists.\n",
    "    Returns the localfile string.\n",
    "    \"\"\"\n",
    "    localfile = \"../../datasets/classification/\"+localfile\n",
    "    if not os.path.exists(localfile):\n",
    "        print(\"Downloading %s...\" % localfile)\n",
    "        filename, headers = urllib.request.urlretrieve(remoteurl, localfile)\n",
    "    return localfile"
   ]
  },
  {
   "cell_type": "code",
   "execution_count": 10,
   "metadata": {},
   "outputs": [],
   "source": [
    "data = np.loadtxt(download(\"https://archive.ics.uci.edu/ml/machine-learning-databases/statlog/german/german.data-numeric\",\"german-data\"))\n",
    "y = data[:, -1].astype(np.int32) # for last column\n",
    "X = data[:, :-1].astype(np.int32) # for all but last column"
   ]
  },
  {
   "cell_type": "markdown",
   "metadata": {},
   "source": [
    "## Importing libraries"
   ]
  },
  {
   "cell_type": "code",
   "execution_count": 12,
   "metadata": {},
   "outputs": [],
   "source": [
    "import matplotlib as mpl\n",
    "import matplotlib.pyplot as plt\n",
    "import sklearn\n",
    "import sklearn.tree\n",
    "import sklearn.neighbors\n",
    "import sklearn.ensemble\n",
    "from sklearn.naive_bayes import GaussianNB\n",
    "from sklearn.linear_model import LogisticRegression\n",
    "from sklearn.model_selection import train_test_split"
   ]
  },
  {
   "cell_type": "code",
   "execution_count": 14,
   "metadata": {},
   "outputs": [],
   "source": [
    "X_train, X_test, y_train, y_test = train_test_split(X,y, test_size=0.3, random_state=0)"
   ]
  },
  {
   "cell_type": "code",
   "execution_count": null,
   "metadata": {},
   "outputs": [],
   "source": []
  }
 ],
 "metadata": {
  "kernelspec": {
   "display_name": "Python 3.8.8 64-bit ('base': conda)",
   "name": "python388jvsc74a57bd0b9828c955bab0c8fbce05acd98c90b029dc7e02db9d225b15c9f70e3fad9a000"
  },
  "language_info": {
   "name": "python",
   "version": ""
  }
 },
 "nbformat": 4,
 "nbformat_minor": 5
}