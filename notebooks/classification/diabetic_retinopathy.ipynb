{
 "cells": [
  {
   "cell_type": "markdown",
   "source": [
    "# Diabetic Retinopathy"
   ],
   "metadata": {}
  },
  {
   "cell_type": "markdown",
   "source": [
    "## Description"
   ],
   "metadata": {}
  },
  {
   "cell_type": "markdown",
   "source": [
    "The Diabetic Retinopathy (DR) dataset predicts whether an image contains signs of diabetic retinopathy. The dataset contains features that have been extracted frm the [Messidor](https://www.adcis.net/en/third-party/messidor/) image set.\r\n",
    "\r\n",
    "The column attributes are as follows:\r\n",
    "\r\n",
    "| Column Name | Description |\r\n",
    "| - | - |\r\n",
    "| assessment_quality | Quality of assessment |\r\n",
    "| prescreening_result | Pre-screening analysis results |\r\n",
    "| mas_alpha_5 | Number of microaneurysms (MA) detected at confidence level alpha=0.5 |\r\n",
    "| mas_alpha_6 | Number of microaneurysms (MA) detected at confidence level alpha=0.6 |\r\n",
    "| mas_alpha_7 | Number of microaneurysms (MA) detected at confidence level alpha=0.7 |\r\n",
    "| mas_alpha_8 | Number of microaneurysms (MA) detected at confidence level alpha=0.8 |\r\n",
    "| mas_alpha_9 | Number of microaneurysms (MA) detected at confidence level alpha=0.9 |\r\n",
    "| mas_alpha_10 | Number of microaneurysms (MA) detected at confidence level alpha=1.0 |\r\n",
    "| exudates_alpha_50 | Number of exudates found at confidence level alpha=0.50 divided by the diameter of the region of interest (ROI) |\r\n",
    "| exudates_alpha_57 | Number of exudates found at confidence level alpha≈0.57 divided by the diameter of the region of interest (ROI) |\r\n",
    "| exudates_alpha_64 | Number of exudates found at confidence level alpha≈0.64 divided by the diameter of the region of interest (ROI) |\r\n",
    "| exudates_alpha_71 | Number of exudates found at confidence level alpha≈0.71 divided by the diameter of the region of interest (ROI) |\r\n",
    "| exudates_alpha_79 | Number of exudates found at confidence level alpha≈0.79 divided by the diameter of the region of interest (ROI) |\r\n",
    "| exudates_alpha_86 | Number of exudates found at confidence level alpha≈0.86 divided by the diameter of the region of interest (ROI) |\r\n",
    "| exudates_alpha_93 | Number of exudates found at confidence level alpha≈0.93 divided by the diameter of the region of interest (ROI) |\r\n",
    "| exudates_alpha_100 | Number of exudates found at confidence level alpha=1.00 divided by the diameter of the region of interest (ROI) |\r\n",
    "| macula_disc_distance | Euclidean distance of the center of the macula and the center of the optic disct divided by the diameter of the region of  |interest (ROI)\r\n",
    "| disc_diameter | Diameter of the optic disc |\r\n",
    "| am_fm_result | Binary result from AM/FM-based classification |\r\n",
    "| contains_DR | Class label 0 (no signs of diabetic retinopathy) and 1 (contains signs of diabetic retinopathy) |\r\n",
    "\r\n",
    "[Source](https://archive.ics.uci.edu/ml/datasets/Diabetic+Retinopathy+Debrecen+Data+Set)"
   ],
   "metadata": {}
  },
  {
   "cell_type": "markdown",
   "source": [
    "## Importing the Dataset"
   ],
   "metadata": {}
  },
  {
   "cell_type": "code",
   "execution_count": null,
   "source": [
    "import pandas as pd\r\n",
    "from scipy.io import arff\r\n",
    "\r\n",
    "column_names = ['assessment_quality',\r\n",
    "                'prescreening_result',\r\n",
    "                'mas_alpha_5',\r\n",
    "                'mas_alpha_6',\r\n",
    "                'mas_alpha_7',\r\n",
    "                'mas_alpha_8',\r\n",
    "                'mas_alpha_9',\r\n",
    "                'mas_alpha_10',\r\n",
    "                'exudates_alpha_50',\r\n",
    "                'exudates_alpha_57',\r\n",
    "                'exudates_alpha_64',\r\n",
    "                'exudates_alpha_71',\r\n",
    "                'exudates_alpha_79',\r\n",
    "                'exudates_alpha_86',\r\n",
    "                'exudates_alpha_93',\r\n",
    "                'exudates_alpha_100',\r\n",
    "                'macula_disc_distance',\r\n",
    "                'disc_diameter',\r\n",
    "                'am_fm_result',\r\n",
    "                'contains_DR']\r\n",
    "\r\n",
    "with open(\"../../datasets/classification/diabetic_retinopathy.arff\", \"r\") as dataset_file:\r\n",
    "    raw_data, meta = arff.loadarff(dataset_file)"
   ],
   "outputs": [],
   "metadata": {}
  },
  {
   "cell_type": "markdown",
   "source": [
    "## Preparing the Dataset"
   ],
   "metadata": {}
  },
  {
   "cell_type": "code",
   "execution_count": null,
   "source": [
    "# Convert the raw numpy dataset to a pandas DataFrame. This allows for mixed datatypes within the same multidimensional matrix object.\r\n",
    "processed_data = pd.DataFrame(raw_data.tolist(), columns=column_names)\r\n",
    "\r\n",
    "# Decode integer columns.\r\n",
    "processed_data['assessment_quality'] = processed_data['assessment_quality'].astype(int)\r\n",
    "processed_data['prescreening_result'] = processed_data['prescreening_result'].astype(int)\r\n",
    "processed_data['mas_alpha_5'] = processed_data['mas_alpha_5'].astype(int)\r\n",
    "processed_data['mas_alpha_6'] = processed_data['mas_alpha_6'].astype(int)\r\n",
    "processed_data['mas_alpha_7'] = processed_data['mas_alpha_7'].astype(int)\r\n",
    "processed_data['mas_alpha_8'] = processed_data['mas_alpha_8'].astype(int)\r\n",
    "processed_data['mas_alpha_9'] = processed_data['mas_alpha_9'].astype(int)\r\n",
    "processed_data['mas_alpha_10'] = processed_data['mas_alpha_10'].astype(int)\r\n",
    "\r\n",
    "# Decode integer target column.\r\n",
    "processed_data['am_fm_result'] = processed_data['am_fm_result'].astype(int)\r\n",
    "processed_data['contains_DR'] = processed_data['contains_DR'].astype(int)"
   ],
   "outputs": [],
   "metadata": {}
  },
  {
   "cell_type": "markdown",
   "source": [
    "The following block prints the shape and column datatypes of the processed dataset."
   ],
   "metadata": {}
  },
  {
   "cell_type": "code",
   "execution_count": null,
   "source": [
    "print(processed_data.shape)\r\n",
    "print(processed_data.dtypes)"
   ],
   "outputs": [],
   "metadata": {}
  }
 ],
 "metadata": {
  "orig_nbformat": 4,
  "language_info": {
   "name": "python",
   "version": "3.9.6",
   "mimetype": "text/x-python",
   "codemirror_mode": {
    "name": "ipython",
    "version": 3
   },
   "pygments_lexer": "ipython3",
   "nbconvert_exporter": "python",
   "file_extension": ".py"
  },
  "kernelspec": {
   "name": "python3",
   "display_name": "Python 3.9.6 64-bit ('comp432': conda)"
  },
  "interpreter": {
   "hash": "6151f332f26dcde9b4e9a2d5bb7904271ea54c2018786e9b563d2c471a54dc4f"
  }
 },
 "nbformat": 4,
 "nbformat_minor": 2
}