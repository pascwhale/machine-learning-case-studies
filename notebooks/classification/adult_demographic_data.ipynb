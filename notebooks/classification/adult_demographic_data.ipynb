{
 "cells": [
  {
   "cell_type": "markdown",
   "id": "283dcf15",
   "metadata": {},
   "source": [
    "# Adult Data Set \n",
    "## Description\n",
    "Demographic data extracted from the census bureau containing 48842 entries and 14 attribute.\n",
    "\n",
    "\n",
    "The column attributes are as follows:\n",
    "\n",
    "| Id | Attribute |Domain |\n",
    "| -   | ----------- |----------- |\n",
    "| 1   | Age | continous |\n",
    "| 2   | Workclass | Private, Self-emp-not-inc, Self-emp-inc, Federal-gov, Local-gov, State-gov, Without-pay, Never-worked. |\n",
    "| 3   | Fnlwgt | continuous |\n",
    "| 4   | Education | Bachelors, Some-college, 11th, HS-grad, Prof-school, Assoc-acdm, Assoc-voc, 9th, 7th-8th, 12th, Masters, 1st-4th, 10th, Doctorate, 5th-6th, Preschool. |\n",
    "| 5   | Education Number |continuous  |\n",
    "| 6   | Marital Status | Married-civ-spouse, Divorced, Never-married, Separated, Widowed, Married-spouse-absent, Married-AF-spouse. |\n",
    "| 7   | Occupation | Tech-support, Craft-repair, Other-service, Sales, Exec-managerial, Prof-specialty, Handlers-cleaners, Machine-op-inspct, Adm-clerical, Farming-fishing, Transport-moving, Priv-house-serv, Protective-serv, Armed-Forces|\n",
    "| 8   | Relationship | Wife, Own-child, Husband, Not-in-family, Other-relative, Unmarried |\n",
    "| 9   | Race | White, Asian-Pac-Islander, Amer-Indian-Eskimo, Other, Black |\n",
    "| 10  | Sex | Female, Male |\n",
    "| 11  | Capital Gain | continuous |\n",
    "| 12  | Capital Loss | continuous |\n",
    "| 13  | Hours Per Week | continuous |\n",
    "| 14  | Native Country | United-States, Cambodia, England, Puerto-Rico, Canada, Germany, Outlying-US(Guam-USVI-etc), India, Japan, Greece, South, China, Cuba, Iran, Honduras, Philippines, Italy, Poland, Jamaica, Vietnam, Mexico, Portugal, Ireland, France, Dominican-Republic, Laos, Ecuador, Taiwan, Haiti, Columbia, Hungary, Guatemala, Nicaragua, Scotland, Thailand, Yugoslavia, El-Salvador, Trinadad&Tobago, Peru, Hong, Holand-Netherlands.\n",
    " |"
   ]
  },
  {
   "cell_type": "markdown",
   "id": "ba86868b",
   "metadata": {},
   "source": [
    "## Importing and processing dataset"
   ]
  },
  {
   "cell_type": "code",
   "execution_count": 2,
   "id": "f7efd47f",
   "metadata": {
    "scrolled": false
   },
   "outputs": [],
   "source": [
    "import os                        # for os.path.exists\n",
    "import json                      # for loading metadata\n",
    "import urllib                    # for downloading remote files \n",
    "import numpy as np\n",
    "import pandas as pd"
   ]
  },
  {
   "cell_type": "code",
   "execution_count": 3,
   "id": "936931b2",
   "metadata": {
    "scrolled": false
   },
   "outputs": [],
   "source": [
    "def download(remoteurl: str, localfile: str):\n",
    "    \"\"\"\n",
    "    Download remoteurl to localfile, unless localfile already exists.\n",
    "    Returns the localfile string.\n",
    "    \"\"\"\n",
    "    localfile = \"../../datasets/classification/\"+localfile\n",
    "    if not os.path.exists(localfile):\n",
    "        print(\"Downloading %s...\" % localfile)\n",
    "        filename, headers = urllib.request.urlretrieve(remoteurl, localfile)\n",
    "    return localfile"
   ]
  },
  {
   "cell_type": "code",
   "execution_count": 4,
   "id": "0de20e09",
   "metadata": {
    "scrolled": true
   },
   "outputs": [],
   "source": [
    "# Importing and processing main data\n",
    "adult_data = download(\"https://archive.ics.uci.edu/ml/machine-learning-databases/adult/adult.data\",\"adult-data\")\n",
    "headers = ['Age','Workclass','Fnlwgt','Education','Education Number', 'Marital Status','Occupation','Relationship','Race','Sex','Captial Gain','Capital Loss','Hours Per Week','Native Country','Wage Category']\n",
    "data = pd.read_csv(adult_data, header = None,names=headers, index_col=False)\n",
    "data = data.replace(\"?\", np.nan) \n",
    "data = data.dropna() \n",
    "data = data.replace(' <=50K', 0)\n",
    "data = data.replace(' >50K', 1)\n",
    "\n",
    "X = (data.iloc[:,:data.shape[1]-1])\n",
    "y = (data.iloc[:,data.shape[1]-1:])\n",
    "\n",
    "X = X.drop('Education',axis=1)\n",
    "X = X.drop('Native Country', axis=1)\n",
    "X.Workclass = pd.Categorical(X.Workclass)\n",
    "X.Workclass = X.Workclass.cat.codes\n",
    "\n",
    "X['Marital Status'] = pd.Categorical(X['Marital Status'])\n",
    "X['Marital Status'] = X['Marital Status'].cat.codes\n",
    "\n",
    "X['Occupation'] = pd.Categorical(X['Occupation'])\n",
    "X['Occupation'] = X['Occupation'].cat.codes\n",
    "\n",
    "X['Relationship'] = pd.Categorical(X['Relationship'])\n",
    "X['Relationship'] = X['Relationship'].cat.codes\n",
    "\n",
    "X['Race'] = pd.Categorical(X['Race'])\n",
    "X['Race'] = X['Race'].cat.codes\n",
    "\n",
    "X['Sex'] = pd.Categorical(X['Sex'])\n",
    "X['Sex'] = X['Sex'].cat.codes\n",
    "\n",
    "\n",
    "X = X.to_numpy()\n",
    "y = y.to_numpy().flatten()\n",
    "\n",
    "\n",
    "# Importing and processing test data\n",
    "test_data = download(\"https://archive.ics.uci.edu/ml/machine-learning-databases/adult/adult.test\",\"adult_test_data\")\n",
    "headers = ['Age','Workclass','Fnlwgt','Education','Education Number', 'Marital Status','Occupation','Relationship','Race','Sex','Captial Gain','Capital Loss','Hours Per Week','Native Country','Wage Category']\n",
    "test_data = pd.read_csv(test_data, header = None,names=headers, index_col=False)\n",
    "test_data = test_data.replace(\"?\", np.nan) \n",
    "test_data = test_data.dropna() \n",
    "test_data = test_data.replace(' <=50K.', 0)\n",
    "test_data = test_data.replace(' >50K.', 1)\n",
    "\n",
    "X_test = (test_data.iloc[:,:test_data.shape[1]-1])\n",
    "y_test = (test_data.iloc[:,test_data.shape[1]-1:])\n",
    "\n",
    "X_test['Age'] = pd.to_numeric(X_test['Age'])\n",
    "\n",
    "X_test = X_test.drop('Education',axis=1)\n",
    "X_test = X_test.drop('Native Country',axis=1)\n",
    "\n",
    "X_test.Workclass = pd.Categorical(X_test.Workclass)\n",
    "X_test.Workclass = X_test.Workclass.cat.codes\n",
    "\n",
    "X_test['Marital Status'] = pd.Categorical(X_test['Marital Status'])\n",
    "X_test['Marital Status'] = X_test['Marital Status'].cat.codes\n",
    "\n",
    "X_test['Occupation'] = pd.Categorical(X_test['Occupation'])\n",
    "X_test['Occupation'] = X_test['Occupation'].cat.codes\n",
    "\n",
    "X_test['Relationship'] = pd.Categorical(X_test['Relationship'])\n",
    "X_test['Relationship'] = X_test['Relationship'].cat.codes\n",
    "\n",
    "X_test['Race'] = pd.Categorical(X_test['Race'])\n",
    "X_test['Race'] = X_test['Race'].cat.codes\n",
    "\n",
    "X_test['Sex'] = pd.Categorical(X_test['Sex'])\n",
    "X_test['Sex'] = X_test['Sex'].cat.codes\n",
    "\n",
    "X_test = X_test.to_numpy()\n",
    "y_test = y_test.to_numpy().flatten()\n"
   ]
  },
  {
   "cell_type": "markdown",
   "id": "2b54e297",
   "metadata": {},
   "source": [
    "## Importing libraries"
   ]
  },
  {
   "cell_type": "code",
   "execution_count": 5,
   "id": "84fd163f",
   "metadata": {
    "scrolled": false
   },
   "outputs": [],
   "source": [
    "import matplotlib as mpl\n",
    "import matplotlib.pyplot as plt\n",
    "import sklearn\n",
    "import sklearn.tree\n",
    "import sklearn.neighbors\n",
    "import sklearn.ensemble\n",
    "from sklearn.naive_bayes import GaussianNB\n",
    "from sklearn.linear_model import LogisticRegression\n",
    "from sklearn.model_selection import train_test_split"
   ]
  },
  {
   "cell_type": "markdown",
   "id": "567186e5",
   "metadata": {},
   "source": [
    "## Define training and plotting methods"
   ]
  },
  {
   "cell_type": "code",
   "execution_count": 6,
   "id": "065d036b",
   "metadata": {
    "scrolled": false
   },
   "outputs": [],
   "source": [
    "def train_estimators(X, y, estimator_type, param_name, param_vals, **kwargs):\n",
    "    \"\"\"\n",
    "    \n",
    "    Trains multiple instances of `estimator_type` on (X, y) by setting argument\n",
    "    named `param_name` to each value in `param_vals`. Prints a message before\n",
    "    training each instance. Returns the list of trained estimators.\n",
    "    \n",
    "    For example:\n",
    "    \n",
    "       >>> train_estimators(X, y, DecisionTreeClassifier, 'max_depth', [1, 5, 10],\n",
    "                            splitter='random', random_state=0)\n",
    "    \n",
    "       Training DecisionTreeClassifier(max_depth=1, random_state=0, splitter='random')...\n",
    "       Training DecisionTreeClassifier(max_depth=5, random_state=0, splitter='random')...\n",
    "       Training DecisionTreeClassifier(max_depth=10, random_state=0, splitter='random')...\n",
    "\n",
    "       [DecisionTreeClassifier(max_depth=1, random_state=0, splitter='random'),\n",
    "        DecisionTreeClassifier(max_depth=5, random_state=0, splitter='random'),\n",
    "        DecisionTreeClassifier(max_depth=10, random_state=0, splitter='random')] \n",
    "    \"\"\"\n",
    "    # Your implementation here. Aim for 5-10 lines.\n",
    "    estimators = []\n",
    "    extra_params = ''\n",
    "\n",
    "    for arg in kwargs:\n",
    "        extra_params = extra_params + str(arg) + '=' + str(kwargs[arg])+ ', ' \n",
    "        \n",
    "    for val in param_vals:\n",
    "        estimator = estimator_type(**{param_name : val}, **kwargs).fit(X,y)\n",
    "        estimators.append(estimator)\n",
    "        print('Training' + ' ' +str(estimator.__class__.__name__) +'(' + str(param_name) + '=' + str(val) + ', ' + extra_params + ')...')\n",
    "\n",
    "    return estimators;"
   ]
  },
  {
   "cell_type": "code",
   "execution_count": 7,
   "id": "eac525e1",
   "metadata": {
    "scrolled": false
   },
   "outputs": [],
   "source": [
    "def plot_estimator_scores(estimators, param_name, param_vals):\n",
    "    \"\"\"\n",
    "    Plots the training, validation, and testing scores of a list of estimators,\n",
    "    where `param_name` and `param_vals` are the same as for `train_estimators`.\n",
    "    The estimator with best validation score will be highlighted with an 'x'.\n",
    "    \"\"\"\n",
    "    # Your implementation here. Use as many lines as you need.\n",
    "\n",
    "    N = len(param_vals)\n",
    "    x2 = np.arange(N)\n",
    "    \n",
    "    training_scores = score_estimators(X_train_scaled, y_train, estimators)\n",
    "    test_scores = score_estimators(X_test_scaled, y_test, estimators)\n",
    "    val_scores = score_estimators(X_val_scaled, y_val, estimators)\n",
    "    \n",
    "    val_score_index = val_scores.index(np.max(val_scores))\n",
    "    \n",
    "    plt.plot(x2, training_scores, '-ok', color = 'g', label = 'train')\n",
    "    plt.plot(x2, val_scores, '-ok',color = 'r', label = 'val') \n",
    "    plt.plot(x2, test_scores, linestyle='dashed', color = \"k\",label = 'test' )\n",
    "    plt.plot(4,np.max(val_scores), marker = 'x', color = 'r', markersize = 16)\n",
    "    \n",
    "    plt.legend()\n",
    "    plt.xticks(x2,param_vals)\n",
    "    plt.ylim(ymin=0)\n",
    "    plt.title(str(estimators[0].__class__.__name__) +' '+ 'score vs '  + str(param_name))\n",
    "    plt.text(4, 0.31,'train = ' + str(training_scores[val_score_index])[:5], color='green')\n",
    "    plt.text(4, 0.24, 'val = ' + str(val_scores[val_score_index])[:5], color='red')\n",
    "    plt.text(4, 0.17, 'test = ' + str(test_scores[val_score_index])[:5])\n",
    "    plt.figure()"
   ]
  },
  {
   "cell_type": "code",
   "execution_count": 8,
   "id": "53a21649",
   "metadata": {
    "scrolled": false
   },
   "outputs": [],
   "source": [
    "def score_estimators(X, y, estimators):\n",
    "    \"\"\"Scores each estimator on (X, y), returning a list of scores.\"\"\"\n",
    "    scores = []\n",
    "    for estimator in estimators:\n",
    "        scores.append(estimator.score(X,y))\n",
    "    return scores"
   ]
  },
  {
   "cell_type": "markdown",
   "id": "fa42b049",
   "metadata": {},
   "source": [
    "# Training various classifiers"
   ]
  },
  {
   "cell_type": "markdown",
   "id": "db84e756",
   "metadata": {},
   "source": [
    "## Splitting the data into training, testing, and validation sets"
   ]
  },
  {
   "cell_type": "code",
   "execution_count": 9,
   "id": "b3b8b50f",
   "metadata": {
    "scrolled": false
   },
   "outputs": [],
   "source": [
    "# Your code here. Aim for 2-3 lines.\n",
    "X_train, X_temp, y_train, y_temp= train_test_split(X, y, train_size=0.80, test_size = 0.20, random_state=0)\n",
    "X_train, X_val, y_train, y_val= train_test_split(X_train, y_train, train_size=0.75, test_size = 0.25, random_state=0)\n",
    "X_test = X_test[:6512,:]\n",
    "y_test = y_test[:6512]"
   ]
  },
  {
   "cell_type": "code",
   "execution_count": 10,
   "id": "1e8654a2",
   "metadata": {
    "scrolled": false
   },
   "outputs": [],
   "source": [
    "from sklearn.preprocessing import StandardScaler\n",
    "scaler = StandardScaler()\n",
    "scaler.fit(X)\n",
    "X_train_scaled = scaler.transform(X_train)\n",
    "X_test_scaled = scaler.transform(X_test)\n",
    "X_val_scaled = scaler.transform(X_val)"
   ]
  },
  {
   "cell_type": "markdown",
   "id": "817af45d",
   "metadata": {},
   "source": [
    "## Logistic Regression Classification"
   ]
  },
  {
   "cell_type": "code",
   "execution_count": 11,
   "id": "87611392",
   "metadata": {
    "scrolled": false
   },
   "outputs": [
    {
     "name": "stdout",
     "output_type": "stream",
     "text": [
      "Training LogisticRegression(C=1e-05, max_iter=10000, random_state=0, )...\n",
      "Training LogisticRegression(C=0.0001, max_iter=10000, random_state=0, )...\n",
      "Training LogisticRegression(C=0.001, max_iter=10000, random_state=0, )...\n",
      "Training LogisticRegression(C=0.01, max_iter=10000, random_state=0, )...\n",
      "Training LogisticRegression(C=0.1, max_iter=10000, random_state=0, )...\n",
      "Training LogisticRegression(C=1.0, max_iter=10000, random_state=0, )...\n"
     ]
    },
    {
     "data": {
      "image/png": "[encoded data removed]",
      "text/plain": [
       "<Figure size 432x288 with 1 Axes>"
      ]
     },
     "metadata": {
      "needs_background": "light"
     },
     "output_type": "display_data"
    },
    {
     "data": {
      "text/plain": [
       "<Figure size 432x288 with 0 Axes>"
      ]
     },
     "metadata": {},
     "output_type": "display_data"
    }
   ],
   "source": [
    "LogisticRegressionEstimators = train_estimators(X_train_scaled, y_train, sklearn.linear_model.LogisticRegression,\n",
    "                                   'C', [1e-05, 0.0001, 0.001,0.01,0.1,1.0], max_iter=10000, random_state=0)\n",
    "plot_estimator_scores(LogisticRegressionEstimators,'C',[1e-05, 0.0001, 0.001,0.01,0.1,1.0])"
   ]
  },
  {
   "cell_type": "markdown",
   "id": "f086bb5f",
   "metadata": {},
   "source": [
    "## SVM Classification"
   ]
  },
  {
   "cell_type": "code",
   "execution_count": 12,
   "id": "cfbdfab0",
   "metadata": {
    "scrolled": false
   },
   "outputs": [
    {
     "name": "stdout",
     "output_type": "stream",
     "text": [
      "Training SVC(C=0.01, gamma=0.0001, max_iter=10000, random_state=0, )...\n",
      "Training SVC(C=0.1, gamma=0.0001, max_iter=10000, random_state=0, )...\n",
      "Training SVC(C=1.0, gamma=0.0001, max_iter=10000, random_state=0, )...\n",
      "Training SVC(C=10.0, gamma=0.0001, max_iter=10000, random_state=0, )...\n",
      "Training SVC(C=100.0, gamma=0.0001, max_iter=10000, random_state=0, )...\n"
     ]
    },
    {
     "data": {
      "image/png": "[encoded data removed]",
      "text/plain": [
       "<Figure size 432x288 with 1 Axes>"
      ]
     },
     "metadata": {
      "needs_background": "light"
     },
     "output_type": "display_data"
    },
    {
     "data": {
      "text/plain": [
       "<Figure size 432x288 with 0 Axes>"
      ]
     },
     "metadata": {},
     "output_type": "display_data"
    }
   ],
   "source": [
    "SVMEstimator = train_estimators(X_train_scaled, y_train, sklearn.svm.SVC,\n",
    "                                   'C', [0.01, 0.1,1.0,10.0,100.0],gamma=0.0001,max_iter=10000, random_state=0)\n",
    "plot_estimator_scores(SVMEstimator,'C',[0.01, 0.1,1.0,10.0,100.0])"
   ]
  },
  {
   "cell_type": "markdown",
   "id": "6fe0285d",
   "metadata": {},
   "source": [
    "## Decision Tree Classification"
   ]
  },
  {
   "cell_type": "code",
   "execution_count": 13,
   "id": "1a8b52a9",
   "metadata": {
    "scrolled": false
   },
   "outputs": [
    {
     "name": "stdout",
     "output_type": "stream",
     "text": [
      "Training DecisionTreeClassifier(max_depth=1, splitter=random, random_state=0, )...\n",
      "Training DecisionTreeClassifier(max_depth=5, splitter=random, random_state=0, )...\n",
      "Training DecisionTreeClassifier(max_depth=10, splitter=random, random_state=0, )...\n",
      "Training DecisionTreeClassifier(max_depth=20, splitter=random, random_state=0, )...\n",
      "Training DecisionTreeClassifier(max_depth=50, splitter=random, random_state=0, )...\n",
      "Training DecisionTreeClassifier(max_depth=100, splitter=random, random_state=0, )...\n"
     ]
    },
    {
     "data": {
      "image/png": "[encoded data removed]",
      "text/plain": [
       "<Figure size 432x288 with 1 Axes>"
      ]
     },
     "metadata": {
      "needs_background": "light"
     },
     "output_type": "display_data"
    },
    {
     "data": {
      "text/plain": [
       "<Figure size 432x288 with 0 Axes>"
      ]
     },
     "metadata": {},
     "output_type": "display_data"
    }
   ],
   "source": [
    "DecisionTreeEstimators = train_estimators(X_train_scaled, y_train, sklearn.tree.DecisionTreeClassifier,\n",
    "                                   'max_depth', [1, 5, 10,20,50,100], splitter='random', random_state=0)\n",
    "plot_estimator_scores(DecisionTreeEstimators,'max_depth',[1, 5, 10,20,50,100])"
   ]
  },
  {
   "cell_type": "markdown",
   "id": "00f44519",
   "metadata": {},
   "source": [
    "## RandomForest Classification"
   ]
  },
  {
   "cell_type": "code",
   "execution_count": 14,
   "id": "e4f6124f",
   "metadata": {
    "scrolled": false
   },
   "outputs": [
    {
     "name": "stdout",
     "output_type": "stream",
     "text": [
      "Training RandomForestClassifier(max_depth=1, random_state=0, )...\n",
      "Training RandomForestClassifier(max_depth=5, random_state=0, )...\n",
      "Training RandomForestClassifier(max_depth=10, random_state=0, )...\n",
      "Training RandomForestClassifier(max_depth=20, random_state=0, )...\n",
      "Training RandomForestClassifier(max_depth=50, random_state=0, )...\n",
      "Training RandomForestClassifier(max_depth=100, random_state=0, )...\n"
     ]
    },
    {
     "data": {
      "image/png": "[encoded data removed]",
      "text/plain": [
       "<Figure size 432x288 with 1 Axes>"
      ]
     },
     "metadata": {
      "needs_background": "light"
     },
     "output_type": "display_data"
    },
    {
     "data": {
      "text/plain": [
       "<Figure size 432x288 with 0 Axes>"
      ]
     },
     "metadata": {},
     "output_type": "display_data"
    }
   ],
   "source": [
    "RandomTreeEstimators = train_estimators(X_train_scaled, y_train, sklearn.ensemble.RandomForestClassifier,\n",
    "                                   'max_depth', [1, 5, 10,20,50,100], random_state=0)\n",
    "plot_estimator_scores(RandomTreeEstimators,'max_depth',[1, 5, 10,20,50,100])"
   ]
  },
  {
   "cell_type": "markdown",
   "id": "b01ddcb9",
   "metadata": {},
   "source": [
    "## K-nearest Classification"
   ]
  },
  {
   "cell_type": "code",
   "execution_count": 15,
   "id": "1b7a574f",
   "metadata": {
    "scrolled": false
   },
   "outputs": [
    {
     "name": "stdout",
     "output_type": "stream",
     "text": [
      "Training KNeighborsClassifier(weights=uniform, n_neighbors=2, )...\n",
      "Training KNeighborsClassifier(weights=distance, n_neighbors=2, )...\n",
      "Training KNeighborsClassifier(algorithm=auto, n_neighbors=2, )...\n",
      "Training KNeighborsClassifier(algorithm=ball_tree, n_neighbors=2, )...\n",
      "Training KNeighborsClassifier(algorithm=kd_tree, n_neighbors=2, )...\n",
      "Training KNeighborsClassifier(algorithm=brute, n_neighbors=2, )...\n"
     ]
    },
    {
     "data": {
      "image/png": "[encoded data removed]",
      "text/plain": [
       "<Figure size 432x288 with 1 Axes>"
      ]
     },
     "metadata": {
      "needs_background": "light"
     },
     "output_type": "display_data"
    },
    {
     "data": {
      "image/png": "[encoded data removed]",
      "text/plain": [
       "<Figure size 432x288 with 1 Axes>"
      ]
     },
     "metadata": {
      "needs_background": "light"
     },
     "output_type": "display_data"
    },
    {
     "data": {
      "text/plain": [
       "<Figure size 432x288 with 0 Axes>"
      ]
     },
     "metadata": {},
     "output_type": "display_data"
    }
   ],
   "source": [
    "KNearestEstimators = train_estimators(X_train_scaled, y_train, sklearn.neighbors.KNeighborsClassifier,\n",
    "                                      'weights', ['uniform','distance'],n_neighbors=2)\n",
    "plot_estimator_scores(KNearestEstimators,'weights', ['uniform','distance'])\n",
    "\n",
    "KNearestEstimators = train_estimators(X_train_scaled, y_train, sklearn.neighbors.KNeighborsClassifier,\n",
    "                                      'algorithm', ['auto', 'ball_tree', 'kd_tree','brute'],n_neighbors=2)\n",
    "plot_estimator_scores(KNearestEstimators,'algorithm', ['auto', 'ball_tree', 'kd_tree','brute'])\n"
   ]
  },
  {
   "cell_type": "markdown",
   "id": "8918182c",
   "metadata": {},
   "source": [
    "## Ada Boost Classification"
   ]
  },
  {
   "cell_type": "code",
   "execution_count": 16,
   "id": "c6f93567",
   "metadata": {
    "scrolled": false
   },
   "outputs": [
    {
     "name": "stdout",
     "output_type": "stream",
     "text": [
      "Training AdaBoostClassifier(n_estimators=10, random_state=0, )...\n",
      "Training AdaBoostClassifier(n_estimators=50, random_state=0, )...\n",
      "Training AdaBoostClassifier(n_estimators=100, random_state=0, )...\n",
      "Training AdaBoostClassifier(n_estimators=500, random_state=0, )...\n",
      "Training AdaBoostClassifier(n_estimators=1000, random_state=0, )...\n",
      "Training AdaBoostClassifier(n_estimators=5000, random_state=0, )...\n"
     ]
    },
    {
     "data": {
      "image/png": "[encoded data removed]",
      "text/plain": [
       "<Figure size 432x288 with 1 Axes>"
      ]
     },
     "metadata": {
      "needs_background": "light"
     },
     "output_type": "display_data"
    },
    {
     "data": {
      "text/plain": [
       "<Figure size 432x288 with 0 Axes>"
      ]
     },
     "metadata": {},
     "output_type": "display_data"
    }
   ],
   "source": [
    "AdaBoostEstimators = train_estimators(X_train_scaled, y_train, sklearn.ensemble.AdaBoostClassifier,\n",
    "                                   'n_estimators', [10, 50, 100, 500, 1000, 5000], random_state=0)\n",
    "plot_estimator_scores(AdaBoostEstimators,'n_estimators',[10, 50, 100, 500, 1000, 5000])"
   ]
  },
  {
   "cell_type": "markdown",
   "id": "40e9c202",
   "metadata": {},
   "source": [
    "## Gaussian Naive Bayes Classification"
   ]
  },
  {
   "cell_type": "code",
   "execution_count": 17,
   "id": "75b026f7",
   "metadata": {
    "scrolled": false
   },
   "outputs": [
    {
     "name": "stdout",
     "output_type": "stream",
     "text": [
      "0.7995495495495496 0.800982800982801 0.8023648648648649\n"
     ]
    }
   ],
   "source": [
    "clf = GaussianNB()\n",
    "NaiveBayesEstimator=clf.fit(X_train_scaled, y_train)\n",
    "NB_training_scores = NaiveBayesEstimator.score(X_train_scaled, y_train)\n",
    "NB_test_scores =  NaiveBayesEstimator.score(X_test_scaled, y_test)\n",
    "NB_val_scores =  NaiveBayesEstimator.score(X_val_scaled, y_val)\n",
    "print(NB_training_scores,NB_val_scores,NB_test_scores)"
   ]
  },
  {
   "cell_type": "code",
   "execution_count": 18,
   "id": "36935618",
   "metadata": {
    "scrolled": false
   },
   "outputs": [
    {
     "ename": "ValueError",
     "evalue": "X has 13 features, but DecisionTreeClassifier is expecting 12 features as input.",
     "output_type": "error",
     "traceback": [
      "\u001b[1;31m---------------------------------------------------------------------------\u001b[0m",
      "\u001b[1;31mValueError\u001b[0m                                Traceback (most recent call last)",
      "\u001b[1;32m<ipython-input-18-483dd6d8c4c5>\u001b[0m in \u001b[0;36m<module>\u001b[1;34m\u001b[0m\n\u001b[0;32m      1\u001b[0m \u001b[0mpascal\u001b[0m \u001b[1;33m=\u001b[0m \u001b[0mnp\u001b[0m\u001b[1;33m.\u001b[0m\u001b[0marray\u001b[0m\u001b[1;33m(\u001b[0m\u001b[1;33m[\u001b[0m\u001b[1;36m22\u001b[0m\u001b[1;33m,\u001b[0m\u001b[1;36m4\u001b[0m\u001b[1;33m,\u001b[0m\u001b[1;36m249977\u001b[0m\u001b[1;33m,\u001b[0m\u001b[1;36m13\u001b[0m\u001b[1;33m,\u001b[0m\u001b[1;36m4\u001b[0m\u001b[1;33m,\u001b[0m\u001b[1;36m0\u001b[0m\u001b[1;33m,\u001b[0m\u001b[1;36m13\u001b[0m\u001b[1;33m,\u001b[0m\u001b[1;36m4\u001b[0m\u001b[1;33m,\u001b[0m\u001b[1;36m1\u001b[0m\u001b[1;33m,\u001b[0m\u001b[1;36m20000\u001b[0m\u001b[1;33m,\u001b[0m\u001b[1;36m0\u001b[0m\u001b[1;33m,\u001b[0m\u001b[1;36m40\u001b[0m\u001b[1;33m,\u001b[0m\u001b[1;36m2\u001b[0m\u001b[1;33m]\u001b[0m\u001b[1;33m)\u001b[0m\u001b[1;33m\u001b[0m\u001b[1;33m\u001b[0m\u001b[0m\n\u001b[1;32m----> 2\u001b[1;33m \u001b[0my_pred\u001b[0m \u001b[1;33m=\u001b[0m \u001b[0mAdaBoostEstimators\u001b[0m\u001b[1;33m[\u001b[0m\u001b[1;36m4\u001b[0m\u001b[1;33m]\u001b[0m\u001b[1;33m.\u001b[0m\u001b[0mpredict\u001b[0m\u001b[1;33m(\u001b[0m\u001b[0mpascal\u001b[0m\u001b[1;33m.\u001b[0m\u001b[0mreshape\u001b[0m\u001b[1;33m(\u001b[0m\u001b[1;36m1\u001b[0m\u001b[1;33m,\u001b[0m\u001b[1;33m-\u001b[0m\u001b[1;36m1\u001b[0m\u001b[1;33m)\u001b[0m\u001b[1;33m)\u001b[0m\u001b[1;33m\u001b[0m\u001b[1;33m\u001b[0m\u001b[0m\n\u001b[0m",
      "\u001b[1;32m~\\anaconda3\\lib\\site-packages\\sklearn\\ensemble\\_weight_boosting.py\u001b[0m in \u001b[0;36mpredict\u001b[1;34m(self, X)\u001b[0m\n\u001b[0;32m    631\u001b[0m         \u001b[0mX\u001b[0m \u001b[1;33m=\u001b[0m \u001b[0mself\u001b[0m\u001b[1;33m.\u001b[0m\u001b[0m_check_X\u001b[0m\u001b[1;33m(\u001b[0m\u001b[0mX\u001b[0m\u001b[1;33m)\u001b[0m\u001b[1;33m\u001b[0m\u001b[1;33m\u001b[0m\u001b[0m\n\u001b[0;32m    632\u001b[0m \u001b[1;33m\u001b[0m\u001b[0m\n\u001b[1;32m--> 633\u001b[1;33m         \u001b[0mpred\u001b[0m \u001b[1;33m=\u001b[0m \u001b[0mself\u001b[0m\u001b[1;33m.\u001b[0m\u001b[0mdecision_function\u001b[0m\u001b[1;33m(\u001b[0m\u001b[0mX\u001b[0m\u001b[1;33m)\u001b[0m\u001b[1;33m\u001b[0m\u001b[1;33m\u001b[0m\u001b[0m\n\u001b[0m\u001b[0;32m    634\u001b[0m \u001b[1;33m\u001b[0m\u001b[0m\n\u001b[0;32m    635\u001b[0m         \u001b[1;32mif\u001b[0m \u001b[0mself\u001b[0m\u001b[1;33m.\u001b[0m\u001b[0mn_classes_\u001b[0m \u001b[1;33m==\u001b[0m \u001b[1;36m2\u001b[0m\u001b[1;33m:\u001b[0m\u001b[1;33m\u001b[0m\u001b[1;33m\u001b[0m\u001b[0m\n",
      "\u001b[1;32m~\\anaconda3\\lib\\site-packages\\sklearn\\ensemble\\_weight_boosting.py\u001b[0m in \u001b[0;36mdecision_function\u001b[1;34m(self, X)\u001b[0m\n\u001b[0;32m    700\u001b[0m         \u001b[1;32mif\u001b[0m \u001b[0mself\u001b[0m\u001b[1;33m.\u001b[0m\u001b[0malgorithm\u001b[0m \u001b[1;33m==\u001b[0m \u001b[1;34m'SAMME.R'\u001b[0m\u001b[1;33m:\u001b[0m\u001b[1;33m\u001b[0m\u001b[1;33m\u001b[0m\u001b[0m\n\u001b[0;32m    701\u001b[0m             \u001b[1;31m# The weights are all 1. for SAMME.R\u001b[0m\u001b[1;33m\u001b[0m\u001b[1;33m\u001b[0m\u001b[1;33m\u001b[0m\u001b[0m\n\u001b[1;32m--> 702\u001b[1;33m             pred = sum(_samme_proba(estimator, n_classes, X)\n\u001b[0m\u001b[0;32m    703\u001b[0m                        for estimator in self.estimators_)\n\u001b[0;32m    704\u001b[0m         \u001b[1;32melse\u001b[0m\u001b[1;33m:\u001b[0m  \u001b[1;31m# self.algorithm == \"SAMME\"\u001b[0m\u001b[1;33m\u001b[0m\u001b[1;33m\u001b[0m\u001b[0m\n",
      "\u001b[1;32m~\\anaconda3\\lib\\site-packages\\sklearn\\ensemble\\_weight_boosting.py\u001b[0m in \u001b[0;36m<genexpr>\u001b[1;34m(.0)\u001b[0m\n\u001b[0;32m    700\u001b[0m         \u001b[1;32mif\u001b[0m \u001b[0mself\u001b[0m\u001b[1;33m.\u001b[0m\u001b[0malgorithm\u001b[0m \u001b[1;33m==\u001b[0m \u001b[1;34m'SAMME.R'\u001b[0m\u001b[1;33m:\u001b[0m\u001b[1;33m\u001b[0m\u001b[1;33m\u001b[0m\u001b[0m\n\u001b[0;32m    701\u001b[0m             \u001b[1;31m# The weights are all 1. for SAMME.R\u001b[0m\u001b[1;33m\u001b[0m\u001b[1;33m\u001b[0m\u001b[1;33m\u001b[0m\u001b[0m\n\u001b[1;32m--> 702\u001b[1;33m             pred = sum(_samme_proba(estimator, n_classes, X)\n\u001b[0m\u001b[0;32m    703\u001b[0m                        for estimator in self.estimators_)\n\u001b[0;32m    704\u001b[0m         \u001b[1;32melse\u001b[0m\u001b[1;33m:\u001b[0m  \u001b[1;31m# self.algorithm == \"SAMME\"\u001b[0m\u001b[1;33m\u001b[0m\u001b[1;33m\u001b[0m\u001b[0m\n",
      "\u001b[1;32m~\\anaconda3\\lib\\site-packages\\sklearn\\ensemble\\_weight_boosting.py\u001b[0m in \u001b[0;36m_samme_proba\u001b[1;34m(estimator, n_classes, X)\u001b[0m\n\u001b[0;32m    271\u001b[0m \u001b[1;33m\u001b[0m\u001b[0m\n\u001b[0;32m    272\u001b[0m     \"\"\"\n\u001b[1;32m--> 273\u001b[1;33m     \u001b[0mproba\u001b[0m \u001b[1;33m=\u001b[0m \u001b[0mestimator\u001b[0m\u001b[1;33m.\u001b[0m\u001b[0mpredict_proba\u001b[0m\u001b[1;33m(\u001b[0m\u001b[0mX\u001b[0m\u001b[1;33m)\u001b[0m\u001b[1;33m\u001b[0m\u001b[1;33m\u001b[0m\u001b[0m\n\u001b[0m\u001b[0;32m    274\u001b[0m \u001b[1;33m\u001b[0m\u001b[0m\n\u001b[0;32m    275\u001b[0m     \u001b[1;31m# Displace zero probabilities so the log is defined.\u001b[0m\u001b[1;33m\u001b[0m\u001b[1;33m\u001b[0m\u001b[1;33m\u001b[0m\u001b[0m\n",
      "\u001b[1;32m~\\anaconda3\\lib\\site-packages\\sklearn\\tree\\_classes.py\u001b[0m in \u001b[0;36mpredict_proba\u001b[1;34m(self, X, check_input)\u001b[0m\n\u001b[0;32m    928\u001b[0m         \"\"\"\n\u001b[0;32m    929\u001b[0m         \u001b[0mcheck_is_fitted\u001b[0m\u001b[1;33m(\u001b[0m\u001b[0mself\u001b[0m\u001b[1;33m)\u001b[0m\u001b[1;33m\u001b[0m\u001b[1;33m\u001b[0m\u001b[0m\n\u001b[1;32m--> 930\u001b[1;33m         \u001b[0mX\u001b[0m \u001b[1;33m=\u001b[0m \u001b[0mself\u001b[0m\u001b[1;33m.\u001b[0m\u001b[0m_validate_X_predict\u001b[0m\u001b[1;33m(\u001b[0m\u001b[0mX\u001b[0m\u001b[1;33m,\u001b[0m \u001b[0mcheck_input\u001b[0m\u001b[1;33m)\u001b[0m\u001b[1;33m\u001b[0m\u001b[1;33m\u001b[0m\u001b[0m\n\u001b[0m\u001b[0;32m    931\u001b[0m         \u001b[0mproba\u001b[0m \u001b[1;33m=\u001b[0m \u001b[0mself\u001b[0m\u001b[1;33m.\u001b[0m\u001b[0mtree_\u001b[0m\u001b[1;33m.\u001b[0m\u001b[0mpredict\u001b[0m\u001b[1;33m(\u001b[0m\u001b[0mX\u001b[0m\u001b[1;33m)\u001b[0m\u001b[1;33m\u001b[0m\u001b[1;33m\u001b[0m\u001b[0m\n\u001b[0;32m    932\u001b[0m \u001b[1;33m\u001b[0m\u001b[0m\n",
      "\u001b[1;32m~\\anaconda3\\lib\\site-packages\\sklearn\\tree\\_classes.py\u001b[0m in \u001b[0;36m_validate_X_predict\u001b[1;34m(self, X, check_input)\u001b[0m\n\u001b[0;32m    400\u001b[0m         \u001b[1;34m\"\"\"Validate the training data on predict (probabilities).\"\"\"\u001b[0m\u001b[1;33m\u001b[0m\u001b[1;33m\u001b[0m\u001b[0m\n\u001b[0;32m    401\u001b[0m         \u001b[1;32mif\u001b[0m \u001b[0mcheck_input\u001b[0m\u001b[1;33m:\u001b[0m\u001b[1;33m\u001b[0m\u001b[1;33m\u001b[0m\u001b[0m\n\u001b[1;32m--> 402\u001b[1;33m             X = self._validate_data(X, dtype=DTYPE, accept_sparse=\"csr\",\n\u001b[0m\u001b[0;32m    403\u001b[0m                                     reset=False)\n\u001b[0;32m    404\u001b[0m             if issparse(X) and (X.indices.dtype != np.intc or\n",
      "\u001b[1;32m~\\anaconda3\\lib\\site-packages\\sklearn\\base.py\u001b[0m in \u001b[0;36m_validate_data\u001b[1;34m(self, X, y, reset, validate_separately, **check_params)\u001b[0m\n\u001b[0;32m    435\u001b[0m \u001b[1;33m\u001b[0m\u001b[0m\n\u001b[0;32m    436\u001b[0m         \u001b[1;32mif\u001b[0m \u001b[0mcheck_params\u001b[0m\u001b[1;33m.\u001b[0m\u001b[0mget\u001b[0m\u001b[1;33m(\u001b[0m\u001b[1;34m'ensure_2d'\u001b[0m\u001b[1;33m,\u001b[0m \u001b[1;32mTrue\u001b[0m\u001b[1;33m)\u001b[0m\u001b[1;33m:\u001b[0m\u001b[1;33m\u001b[0m\u001b[1;33m\u001b[0m\u001b[0m\n\u001b[1;32m--> 437\u001b[1;33m             \u001b[0mself\u001b[0m\u001b[1;33m.\u001b[0m\u001b[0m_check_n_features\u001b[0m\u001b[1;33m(\u001b[0m\u001b[0mX\u001b[0m\u001b[1;33m,\u001b[0m \u001b[0mreset\u001b[0m\u001b[1;33m=\u001b[0m\u001b[0mreset\u001b[0m\u001b[1;33m)\u001b[0m\u001b[1;33m\u001b[0m\u001b[1;33m\u001b[0m\u001b[0m\n\u001b[0m\u001b[0;32m    438\u001b[0m \u001b[1;33m\u001b[0m\u001b[0m\n\u001b[0;32m    439\u001b[0m         \u001b[1;32mreturn\u001b[0m \u001b[0mout\u001b[0m\u001b[1;33m\u001b[0m\u001b[1;33m\u001b[0m\u001b[0m\n",
      "\u001b[1;32m~\\anaconda3\\lib\\site-packages\\sklearn\\base.py\u001b[0m in \u001b[0;36m_check_n_features\u001b[1;34m(self, X, reset)\u001b[0m\n\u001b[0;32m    363\u001b[0m \u001b[1;33m\u001b[0m\u001b[0m\n\u001b[0;32m    364\u001b[0m         \u001b[1;32mif\u001b[0m \u001b[0mn_features\u001b[0m \u001b[1;33m!=\u001b[0m \u001b[0mself\u001b[0m\u001b[1;33m.\u001b[0m\u001b[0mn_features_in_\u001b[0m\u001b[1;33m:\u001b[0m\u001b[1;33m\u001b[0m\u001b[1;33m\u001b[0m\u001b[0m\n\u001b[1;32m--> 365\u001b[1;33m             raise ValueError(\n\u001b[0m\u001b[0;32m    366\u001b[0m                 \u001b[1;34mf\"X has {n_features} features, but {self.__class__.__name__} \"\u001b[0m\u001b[1;33m\u001b[0m\u001b[1;33m\u001b[0m\u001b[0m\n\u001b[0;32m    367\u001b[0m                 f\"is expecting {self.n_features_in_} features as input.\")\n",
      "\u001b[1;31mValueError\u001b[0m: X has 13 features, but DecisionTreeClassifier is expecting 12 features as input."
     ]
    }
   ],
   "source": [
    "pascal = np.array([22,4,249977,13,4,0,13,4,1,20000,0,40,2])\n",
    "y_pred = AdaBoostEstimators[4].predict(pascal.reshape(1,-1))"
   ]
  },
  {
   "cell_type": "code",
   "execution_count": null,
   "id": "daebb4b9",
   "metadata": {
    "scrolled": false
   },
   "outputs": [],
   "source": [
    "y_pred"
   ]
  },
  {
   "cell_type": "code",
   "execution_count": null,
   "id": "047cbea5",
   "metadata": {},
   "outputs": [],
   "source": []
  }
 ],
 "metadata": {
  "kernelspec": {
   "display_name": "Python 3",
   "language": "python",
   "name": "python3"
  },
  "language_info": {
   "codemirror_mode": {
    "name": "ipython",
    "version": 3
   },
   "file_extension": ".py",
   "mimetype": "text/x-python",
   "name": "python",
   "nbconvert_exporter": "python",
   "pygments_lexer": "ipython3",
   "version": "3.8.8"
  }
 },
 "nbformat": 4,
 "nbformat_minor": 5
}
