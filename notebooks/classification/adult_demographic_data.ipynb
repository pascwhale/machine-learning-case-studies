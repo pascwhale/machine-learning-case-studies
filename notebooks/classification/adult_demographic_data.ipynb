{
 "cells": [
  {
   "cell_type": "markdown",
   "id": "283dcf15",
   "metadata": {},
   "source": [
    "# Adult Data Set \n",
    "## Description\n",
    "Demographic data extracted from the census bureau containing 48842 entries and 14 attribute.\n",
    "\n",
    "\n",
    "The column attributes are as follows:\n",
    "\n",
    "| Id | Attribute |Domain |\n",
    "| -   | ----------- |----------- |\n",
    "| 1   | Age | continous |\n",
    "| 2   | Workclass | Private, Self-emp-not-inc, Self-emp-inc, Federal-gov, Local-gov, State-gov, Without-pay, Never-worked. |\n",
    "| 3   | Fnlwgt | continuous |\n",
    "| 4   | Education | Bachelors, Some-college, 11th, HS-grad, Prof-school, Assoc-acdm, Assoc-voc, 9th, 7th-8th, 12th, Masters, 1st-4th, 10th, Doctorate, 5th-6th, Preschool. |\n",
    "| 5   | Education Number |continuous  |\n",
    "| 6   | Marital Status | Married-civ-spouse, Divorced, Never-married, Separated, Widowed, Married-spouse-absent, Married-AF-spouse. |\n",
    "| 7   | Occupation | Tech-support, Craft-repair, Other-service, Sales, Exec-managerial, Prof-specialty, Handlers-cleaners, Machine-op-inspct, Adm-clerical, Farming-fishing, Transport-moving, Priv-house-serv, Protective-serv, Armed-Forces|\n",
    "| 8   | Relationship | Wife, Own-child, Husband, Not-in-family, Other-relative, Unmarried |\n",
    "| 9   | Race | White, Asian-Pac-Islander, Amer-Indian-Eskimo, Other, Black |\n",
    "| 10  | Sex | Female, Male |\n",
    "| 11  | Capital Gain | continuous |\n",
    "| 12  | Capital Loss | continuous |\n",
    "| 13  | Hours Per Week | continuous |\n",
    "| 14  | Native Country | United-States, Cambodia, England, Puerto-Rico, Canada, Germany, Outlying-US(Guam-USVI-etc), India, Japan, Greece, South, China, Cuba, Iran, Honduras, Philippines, Italy, Poland, Jamaica, Vietnam, Mexico, Portugal, Ireland, France, Dominican-Republic, Laos, Ecuador, Taiwan, Haiti, Columbia, Hungary, Guatemala, Nicaragua, Scotland, Thailand, Yugoslavia, El-Salvador, Trinadad&Tobago, Peru, Hong, Holand-Netherlands.\n",
    " |"
   ]
  },
  {
   "cell_type": "markdown",
   "id": "ba86868b",
   "metadata": {},
   "source": [
    "## Importing and processing dataset"
   ]
  },
  {
   "cell_type": "code",
   "execution_count": 1,
   "id": "f7efd47f",
   "metadata": {},
   "outputs": [],
   "source": [
    "import os                        # for os.path.exists\n",
    "import json                      # for loading metadata\n",
    "import urllib                    # for downloading remote files \n",
    "import numpy as np\n",
    "import pandas as pd"
   ]
  },
  {
   "cell_type": "code",
   "execution_count": 2,
   "id": "936931b2",
   "metadata": {},
   "outputs": [],
   "source": [
    "def download(remoteurl: str, localfile: str):\n",
    "    \"\"\"\n",
    "    Download remoteurl to localfile, unless localfile already exists.\n",
    "    Returns the localfile string.\n",
    "    \"\"\"\n",
    "    localfile = \"../../datasets/classification/\"+localfile\n",
    "    if not os.path.exists(localfile):\n",
    "        print(\"Downloading %s...\" % localfile)\n",
    "        filename, headers = urllib.request.urlretrieve(remoteurl, localfile)\n",
    "    return localfile"
   ]
  },
  {
   "cell_type": "code",
   "execution_count": 3,
   "id": "0de20e09",
   "metadata": {
    "scrolled": true
   },
   "outputs": [],
   "source": [
    "# Importing and processing main data\n",
    "adult_data = download(\"https://archive.ics.uci.edu/ml/machine-learning-databases/adult/adult.data\",\"adult-data\")\n",
    "headers = ['Age','Workclass','Fnlwgt','Education','Education Number', 'Marital Status','Occupation','Relationship','Race','Sex','Captial Gain','Capital Loss','Hours Per Week','Native Country','Wage Category']\n",
    "data = pd.read_csv(adult_data, header = None,names=headers, index_col=False)\n",
    "data = data.replace(\"?\", np.nan) \n",
    "data = data.dropna() \n",
    "data = data.replace(' <=50K', 0)\n",
    "data = data.replace(' >50K', 1)\n",
    "\n",
    "X = (data.iloc[:,:data.shape[1]-1])\n",
    "y = (data.iloc[:,data.shape[1]-1:])\n",
    "\n",
    "X = X.drop('Education',axis=1)\n",
    "\n",
    "X.Workclass = pd.Categorical(X.Workclass)\n",
    "X.Workclass = X.Workclass.cat.codes\n",
    "\n",
    "X['Marital Status'] = pd.Categorical(X['Marital Status'])\n",
    "X['Marital Status'] = X['Marital Status'].cat.codes\n",
    "\n",
    "X['Occupation'] = pd.Categorical(X['Occupation'])\n",
    "X['Occupation'] = X['Occupation'].cat.codes\n",
    "\n",
    "X['Relationship'] = pd.Categorical(X['Relationship'])\n",
    "X['Relationship'] = X['Relationship'].cat.codes\n",
    "\n",
    "X['Race'] = pd.Categorical(X['Race'])\n",
    "X['Race'] = X['Race'].cat.codes\n",
    "\n",
    "X['Sex'] = pd.Categorical(X['Sex'])\n",
    "X['Sex'] = X['Sex'].cat.codes\n",
    "\n",
    "X['Native Country'] = pd.Categorical(X['Native Country'])\n",
    "X['Native Country'] = X['Native Country'].cat.codes\n",
    "X = X.to_numpy()\n",
    "y = y.to_numpy().flatten()\n",
    "\n",
    "\n",
    "# Importing and processing test data\n",
    "test_data = download(\"https://archive.ics.uci.edu/ml/machine-learning-databases/adult/adult.test\",\"adult_test_data\")\n",
    "headers = ['Age','Workclass','Fnlwgt','Education','Education Number', 'Marital Status','Occupation','Relationship','Race','Sex','Captial Gain','Capital Loss','Hours Per Week','Native Country','Wage Category']\n",
    "test_data = pd.read_csv(test_data, header = None,names=headers, index_col=False)\n",
    "test_data = test_data.replace(\"?\", np.nan) \n",
    "test_data = test_data.dropna() \n",
    "test_data = test_data.replace(' <=50K.', 0)\n",
    "test_data = test_data.replace(' >50K.', 1)\n",
    "\n",
    "X_test = (test_data.iloc[:,:test_data.shape[1]-1])\n",
    "y_test = (test_data.iloc[:,test_data.shape[1]-1:])\n",
    "\n",
    "X_test = X_test.drop('Education',axis=1)\n",
    "\n",
    "X_test.Workclass = pd.Categorical(X_test.Workclass)\n",
    "X_test.Workclass = X_test.Workclass.cat.codes\n",
    "\n",
    "X_test['Marital Status'] = pd.Categorical(X_test['Marital Status'])\n",
    "X_test['Marital Status'] = X_test['Marital Status'].cat.codes\n",
    "\n",
    "X_test['Occupation'] = pd.Categorical(X_test['Occupation'])\n",
    "X_test['Occupation'] = X_test['Occupation'].cat.codes\n",
    "\n",
    "X_test['Relationship'] = pd.Categorical(X_test['Relationship'])\n",
    "X_test['Relationship'] = X_test['Relationship'].cat.codes\n",
    "\n",
    "X_test['Race'] = pd.Categorical(X_test['Race'])\n",
    "X_test['Race'] = X_test['Race'].cat.codes\n",
    "\n",
    "X_test['Sex'] = pd.Categorical(X_test['Sex'])\n",
    "X_test['Sex'] = X_test['Sex'].cat.codes\n",
    "X_test['Native Country'] = pd.Categorical(X_test['Native Country'])\n",
    "X_test['Native Country'] = X_test['Native Country'].cat.codes\n",
    "X_test = X_test.to_numpy()\n",
    "y_test = y_test.to_numpy().flatten()\n"
   ]
  },
  {
   "cell_type": "markdown",
   "id": "2b54e297",
   "metadata": {},
   "source": [
    "## Importing libraries"
   ]
  },
  {
   "cell_type": "code",
   "execution_count": 4,
   "id": "84fd163f",
   "metadata": {},
   "outputs": [],
   "source": [
    "import matplotlib as mpl\n",
    "import matplotlib.pyplot as plt\n",
    "import sklearn\n",
    "import sklearn.tree\n",
    "import sklearn.neighbors\n",
    "import sklearn.ensemble\n",
    "from sklearn.naive_bayes import GaussianNB\n",
    "from sklearn.linear_model import LogisticRegression\n",
    "from sklearn.model_selection import train_test_split"
   ]
  },
  {
   "cell_type": "markdown",
   "id": "567186e5",
   "metadata": {},
   "source": [
    "## Define training and plotting methods"
   ]
  },
  {
   "cell_type": "code",
   "execution_count": 5,
   "id": "065d036b",
   "metadata": {},
   "outputs": [],
   "source": [
    "def train_estimators(X, y, estimator_type, param_name, param_vals, **kwargs):\n",
    "    \"\"\"\n",
    "    \n",
    "    Trains multiple instances of `estimator_type` on (X, y) by setting argument\n",
    "    named `param_name` to each value in `param_vals`. Prints a message before\n",
    "    training each instance. Returns the list of trained estimators.\n",
    "    \n",
    "    For example:\n",
    "    \n",
    "       >>> train_estimators(X, y, DecisionTreeClassifier, 'max_depth', [1, 5, 10],\n",
    "                            splitter='random', random_state=0)\n",
    "    \n",
    "       Training DecisionTreeClassifier(max_depth=1, random_state=0, splitter='random')...\n",
    "       Training DecisionTreeClassifier(max_depth=5, random_state=0, splitter='random')...\n",
    "       Training DecisionTreeClassifier(max_depth=10, random_state=0, splitter='random')...\n",
    "\n",
    "       [DecisionTreeClassifier(max_depth=1, random_state=0, splitter='random'),\n",
    "        DecisionTreeClassifier(max_depth=5, random_state=0, splitter='random'),\n",
    "        DecisionTreeClassifier(max_depth=10, random_state=0, splitter='random')] \n",
    "    \"\"\"\n",
    "    # Your implementation here. Aim for 5-10 lines.\n",
    "    estimators = []\n",
    "    extra_params = ''\n",
    "\n",
    "    for arg in kwargs:\n",
    "        extra_params = extra_params + str(arg) + '=' + str(kwargs[arg])+ ', ' \n",
    "        \n",
    "    for val in param_vals:\n",
    "        estimator = estimator_type(**{param_name : val}, **kwargs).fit(X,y)\n",
    "        estimators.append(estimator)\n",
    "        print('Training' + ' ' +str(estimator.__class__.__name__) +'(' + str(param_name) + '=' + str(val) + ', ' + extra_params + ')...')\n",
    "\n",
    "    return estimators;"
   ]
  },
  {
   "cell_type": "code",
   "execution_count": 6,
   "id": "eac525e1",
   "metadata": {},
   "outputs": [],
   "source": [
    "def plot_estimator_scores(estimators, param_name, param_vals):\n",
    "    \"\"\"\n",
    "    Plots the training, validation, and testing scores of a list of estimators,\n",
    "    where `param_name` and `param_vals` are the same as for `train_estimators`.\n",
    "    The estimator with best validation score will be highlighted with an 'x'.\n",
    "    \"\"\"\n",
    "    # Your implementation here. Use as many lines as you need.\n",
    "\n",
    "    N = len(param_vals)\n",
    "    x2 = np.arange(N)\n",
    "    \n",
    "    training_scores = score_estimators(X_scaled, y, estimators)\n",
    "    test_scores = score_estimators(X_test_scaled, y_test, estimators)\n",
    "    val_scores = score_estimators(X_val_scaled, y_val, estimators)\n",
    "    \n",
    "    val_score_index = val_scores.index(np.max(val_scores))\n",
    "    \n",
    "    plt.plot(x2, training_scores, '-ok', color = 'g', label = 'train')\n",
    "    plt.plot(x2, val_scores, '-ok',color = 'r', label = 'val') \n",
    "    plt.plot(x2, test_scores, linestyle='dashed', color = \"k\",label = 'test' )\n",
    "    plt.plot(4,np.max(val_scores), marker = 'x', color = 'r', markersize = 16)\n",
    "    \n",
    "    plt.legend()\n",
    "    plt.xticks(x2,param_vals)\n",
    "    plt.ylim(ymin=0)\n",
    "    plt.title(str(estimators[0].__class__.__name__) +' '+ 'score vs '  + str(param_name))\n",
    "    plt.text(4, 0.31,'train = ' + str(training_scores[val_score_index])[:5], color='green')\n",
    "    plt.text(4, 0.24, 'val = ' + str(val_scores[val_score_index])[:5], color='red')\n",
    "    plt.text(4, 0.17, 'test = ' + str(test_scores[val_score_index])[:5])\n",
    "    plt.figure()"
   ]
  },
  {
   "cell_type": "code",
   "execution_count": 7,
   "id": "53a21649",
   "metadata": {},
   "outputs": [],
   "source": [
    "def score_estimators(X, y, estimators):\n",
    "    \"\"\"Scores each estimator on (X, y), returning a list of scores.\"\"\"\n",
    "    scores = []\n",
    "    for estimator in estimators:\n",
    "        scores.append(estimator.score(X,y))\n",
    "    return scores"
   ]
  },
  {
   "cell_type": "markdown",
   "id": "fa42b049",
   "metadata": {},
   "source": [
    "# Training various classifiers"
   ]
  },
  {
   "cell_type": "markdown",
   "id": "db84e756",
   "metadata": {},
   "source": [
    "## Splitting the data into training, testing, and validation sets"
   ]
  },
  {
   "cell_type": "code",
   "execution_count": 8,
   "id": "b3b8b50f",
   "metadata": {},
   "outputs": [],
   "source": [
    "# Your code here. Aim for 2-3 lines.\n",
    "X_val, X_temp, y_val, y_temp= train_test_split(X, y, train_size=(X_test.shape[0]/X.shape[0]), random_state=0)"
   ]
  },
  {
   "cell_type": "code",
   "execution_count": 9,
   "id": "1e8654a2",
   "metadata": {},
   "outputs": [],
   "source": [
    "from sklearn.preprocessing import StandardScaler\n",
    "scaler = StandardScaler()\n",
    "scaler.fit(X)\n",
    "X_scaled = scaler.transform(X)\n",
    "X_test_scaled = scaler.transform(X_test)\n",
    "X_val_scaled = scaler.transform(X_val)"
   ]
  },
  {
   "cell_type": "markdown",
   "id": "817af45d",
   "metadata": {},
   "source": [
    "## Logistic Regression Classification"
   ]
  },
  {
   "cell_type": "code",
   "execution_count": 10,
   "id": "87611392",
   "metadata": {},
   "outputs": [
    {
     "name": "stdout",
     "output_type": "stream",
     "text": [
      "Training LogisticRegression(C=1e-05, max_iter=10000, random_state=0, )...\n",
      "Training LogisticRegression(C=0.0001, max_iter=10000, random_state=0, )...\n",
      "Training LogisticRegression(C=0.001, max_iter=10000, random_state=0, )...\n",
      "Training LogisticRegression(C=0.01, max_iter=10000, random_state=0, )...\n",
      "Training LogisticRegression(C=0.1, max_iter=10000, random_state=0, )...\n",
      "Training LogisticRegression(C=1.0, max_iter=10000, random_state=0, )...\n"
     ]
    },
    {
     "data": {
      "image/png": "[encoded data removed]",
      "text/plain": [
       "<Figure size 432x288 with 1 Axes>"
      ]
     },
     "metadata": {
      "needs_background": "light"
     },
     "output_type": "display_data"
    },
    {
     "data": {
      "text/plain": [
       "<Figure size 432x288 with 0 Axes>"
      ]
     },
     "metadata": {},
     "output_type": "display_data"
    }
   ],
   "source": [
    "LogisticRegressionEstimators = train_estimators(X_scaled, y, sklearn.linear_model.LogisticRegression,\n",
    "                                   'C', [1e-05, 0.0001, 0.001,0.01,0.1,1.0], max_iter=10000, random_state=0)\n",
    "plot_estimator_scores(LogisticRegressionEstimators,'C',[1e-05, 0.0001, 0.001,0.01,0.1,1.0])"
   ]
  },
  {
   "cell_type": "markdown",
   "id": "f086bb5f",
   "metadata": {},
   "source": [
    "## SVM Classification"
   ]
  },
  {
   "cell_type": "code",
   "execution_count": 11,
   "id": "cfbdfab0",
   "metadata": {},
   "outputs": [
    {
     "name": "stdout",
     "output_type": "stream",
     "text": [
      "Training SVC(C=0.01, gamma=0.0001, max_iter=10000, random_state=0, )...\n",
      "Training SVC(C=0.1, gamma=0.0001, max_iter=10000, random_state=0, )...\n",
      "Training SVC(C=1.0, gamma=0.0001, max_iter=10000, random_state=0, )...\n",
      "Training SVC(C=10.0, gamma=0.0001, max_iter=10000, random_state=0, )...\n"
     ]
    },
    {
     "name": "stderr",
     "output_type": "stream",
     "text": [
      "C:\\Users\\luigi\\anaconda3\\lib\\site-packages\\sklearn\\svm\\_base.py:255: ConvergenceWarning: Solver terminated early (max_iter=10000).  Consider pre-processing your data with StandardScaler or MinMaxScaler.\n",
      "  warnings.warn('Solver terminated early (max_iter=%i).'\n"
     ]
    },
    {
     "name": "stdout",
     "output_type": "stream",
     "text": [
      "Training SVC(C=100.0, gamma=0.0001, max_iter=10000, random_state=0, )...\n"
     ]
    },
    {
     "data": {
      "image/png": "[encoded data removed]",
      "text/plain": [
       "<Figure size 432x288 with 1 Axes>"
      ]
     },
     "metadata": {
      "needs_background": "light"
     },
     "output_type": "display_data"
    },
    {
     "data": {
      "text/plain": [
       "<Figure size 432x288 with 0 Axes>"
      ]
     },
     "metadata": {},
     "output_type": "display_data"
    }
   ],
   "source": [
    "SVMEstimator = train_estimators(X_scaled, y, sklearn.svm.SVC,\n",
    "                                   'C', [0.01, 0.1,1.0,10.0,100.0],gamma=0.0001,max_iter=10000, random_state=0)\n",
    "plot_estimator_scores(SVMEstimator,'C',[0.01, 0.1,1.0,10.0,100.0])"
   ]
  },
  {
   "cell_type": "markdown",
   "id": "6fe0285d",
   "metadata": {},
   "source": [
    "## Logistic Regression Classification"
   ]
  },
  {
   "cell_type": "code",
   "execution_count": 12,
   "id": "1a8b52a9",
   "metadata": {},
   "outputs": [
    {
     "name": "stdout",
     "output_type": "stream",
     "text": [
      "Training DecisionTreeClassifier(max_depth=1, splitter=random, random_state=0, )...\n",
      "Training DecisionTreeClassifier(max_depth=5, splitter=random, random_state=0, )...\n",
      "Training DecisionTreeClassifier(max_depth=10, splitter=random, random_state=0, )...\n",
      "Training DecisionTreeClassifier(max_depth=20, splitter=random, random_state=0, )...\n",
      "Training DecisionTreeClassifier(max_depth=50, splitter=random, random_state=0, )...\n",
      "Training DecisionTreeClassifier(max_depth=100, splitter=random, random_state=0, )...\n"
     ]
    },
    {
     "data": {
      "image/png": "[encoded data removed]",
      "text/plain": [
       "<Figure size 432x288 with 1 Axes>"
      ]
     },
     "metadata": {
      "needs_background": "light"
     },
     "output_type": "display_data"
    },
    {
     "data": {
      "text/plain": [
       "<Figure size 432x288 with 0 Axes>"
      ]
     },
     "metadata": {},
     "output_type": "display_data"
    }
   ],
   "source": [
    "DecisionTreeEstimators = train_estimators(X_scaled, y, sklearn.tree.DecisionTreeClassifier,\n",
    "                                   'max_depth', [1, 5, 10,20,50,100], splitter='random', random_state=0)\n",
    "plot_estimator_scores(DecisionTreeEstimators,'max_depth',[1, 5, 10,20,50,100])"
   ]
  },
  {
   "cell_type": "markdown",
   "id": "00f44519",
   "metadata": {},
   "source": [
    "## RandomForest Classification"
   ]
  },
  {
   "cell_type": "code",
   "execution_count": 13,
   "id": "e4f6124f",
   "metadata": {},
   "outputs": [
    {
     "name": "stdout",
     "output_type": "stream",
     "text": [
      "Training RandomForestClassifier(max_depth=1, random_state=0, )...\n",
      "Training RandomForestClassifier(max_depth=5, random_state=0, )...\n",
      "Training RandomForestClassifier(max_depth=10, random_state=0, )...\n",
      "Training RandomForestClassifier(max_depth=20, random_state=0, )...\n",
      "Training RandomForestClassifier(max_depth=50, random_state=0, )...\n",
      "Training RandomForestClassifier(max_depth=100, random_state=0, )...\n"
     ]
    },
    {
     "data": {
      "image/png": "[encoded data removed]",
      "text/plain": [
       "<Figure size 432x288 with 1 Axes>"
      ]
     },
     "metadata": {
      "needs_background": "light"
     },
     "output_type": "display_data"
    },
    {
     "data": {
      "text/plain": [
       "<Figure size 432x288 with 0 Axes>"
      ]
     },
     "metadata": {},
     "output_type": "display_data"
    }
   ],
   "source": [
    "RandomTreeEstimators = train_estimators(X_scaled, y, sklearn.ensemble.RandomForestClassifier,\n",
    "                                   'max_depth', [1, 5, 10,20,50,100], random_state=0)\n",
    "plot_estimator_scores(RandomTreeEstimators,'max_depth',[1, 5, 10,20,50,100])"
   ]
  },
  {
   "cell_type": "markdown",
   "id": "b01ddcb9",
   "metadata": {},
   "source": [
    "## K-nearest Classification"
   ]
  },
  {
   "cell_type": "code",
   "execution_count": 15,
   "id": "1b7a574f",
   "metadata": {},
   "outputs": [
    {
     "name": "stdout",
     "output_type": "stream",
     "text": [
      "Training KNeighborsClassifier(weights=uniform, n_neighbors=2, )...\n",
      "Training KNeighborsClassifier(weights=distance, n_neighbors=2, )...\n",
      "Training KNeighborsClassifier(algorithm=auto, n_neighbors=2, )...\n",
      "Training KNeighborsClassifier(algorithm=ball_tree, n_neighbors=2, )...\n",
      "Training KNeighborsClassifier(algorithm=kd_tree, n_neighbors=2, )...\n",
      "Training KNeighborsClassifier(algorithm=brute, n_neighbors=2, )...\n"
     ]
    },
    {
     "data": {
      "image/png": "[encoded data removed]",
      "text/plain": [
       "<Figure size 432x288 with 1 Axes>"
      ]
     },
     "metadata": {
      "needs_background": "light"
     },
     "output_type": "display_data"
    },
    {
     "data": {
      "image/png": "[encoded data removed]",
      "text/plain": [
       "<Figure size 432x288 with 1 Axes>"
      ]
     },
     "metadata": {
      "needs_background": "light"
     },
     "output_type": "display_data"
    },
    {
     "data": {
      "text/plain": [
       "<Figure size 432x288 with 0 Axes>"
      ]
     },
     "metadata": {},
     "output_type": "display_data"
    }
   ],
   "source": [
    "KNearestEstimators = train_estimators(X_scaled, y, sklearn.neighbors.KNeighborsClassifier,\n",
    "                                      'weights', ['uniform','distance'],n_neighbors=2)\n",
    "plot_estimator_scores(KNearestEstimators,'weights', ['uniform','distance'])\n",
    "\n",
    "KNearestEstimators = train_estimators(X_scaled, y, sklearn.neighbors.KNeighborsClassifier,\n",
    "                                      'algorithm', ['auto', 'ball_tree', 'kd_tree','brute'],n_neighbors=2)\n",
    "plot_estimator_scores(KNearestEstimators,'algorithm', ['auto', 'ball_tree', 'kd_tree','brute'])\n"
   ]
  },
  {
   "cell_type": "markdown",
   "id": "8918182c",
   "metadata": {},
   "source": [
    "## Ada Boost Classification"
   ]
  },
  {
   "cell_type": "code",
   "execution_count": 16,
   "id": "c6f93567",
   "metadata": {},
   "outputs": [
    {
     "name": "stdout",
     "output_type": "stream",
     "text": [
      "Training AdaBoostClassifier(n_estimators=10, random_state=0, )...\n",
      "Training AdaBoostClassifier(n_estimators=50, random_state=0, )...\n",
      "Training AdaBoostClassifier(n_estimators=100, random_state=0, )...\n",
      "Training AdaBoostClassifier(n_estimators=500, random_state=0, )...\n",
      "Training AdaBoostClassifier(n_estimators=1000, random_state=0, )...\n",
      "Training AdaBoostClassifier(n_estimators=5000, random_state=0, )...\n"
     ]
    },
    {
     "data": {
      "image/png": "[encoded data removed]",
      "text/plain": [
       "<Figure size 432x288 with 1 Axes>"
      ]
     },
     "metadata": {
      "needs_background": "light"
     },
     "output_type": "display_data"
    },
    {
     "data": {
      "text/plain": [
       "<Figure size 432x288 with 0 Axes>"
      ]
     },
     "metadata": {},
     "output_type": "display_data"
    }
   ],
   "source": [
    "AdaBoostEstimators = train_estimators(X_scaled, y, sklearn.ensemble.AdaBoostClassifier,\n",
    "                                   'n_estimators', [10, 50, 100, 500, 1000, 5000], random_state=0)\n",
    "plot_estimator_scores(AdaBoostEstimators,'n_estimators',[10, 50, 100, 500, 1000, 5000])"
   ]
  },
  {
   "cell_type": "markdown",
   "id": "40e9c202",
   "metadata": {},
   "source": [
    "## Gaussian Naive Bayes Classification"
   ]
  },
  {
   "cell_type": "code",
   "execution_count": 19,
   "id": "75b026f7",
   "metadata": {},
   "outputs": [
    {
     "name": "stdout",
     "output_type": "stream",
     "text": [
      "0.8011731826418108 0.8007493397211474 0.8009950248756219\n"
     ]
    }
   ],
   "source": [
    "clf = GaussianNB()\n",
    "NaiveBayesEstimator=clf.fit(X_scaled, y)\n",
    "NB_training_scores = NaiveBayesEstimator.score(X_scaled, y)\n",
    "NB_test_scores =  NaiveBayesEstimator.score(X_test_scaled, y_test)\n",
    "NB_val_scores =  NaiveBayesEstimator.score(X_val_scaled, y_val)\n",
    "print(NB_training_scores,NB_val_scores,NB_test_scores)"
   ]
  }
 ],
 "metadata": {
  "kernelspec": {
   "display_name": "Python 3",
   "language": "python",
   "name": "python3"
  },
  "language_info": {
   "codemirror_mode": {
    "name": "ipython",
    "version": 3
   },
   "file_extension": ".py",
   "mimetype": "text/x-python",
   "name": "python",
   "nbconvert_exporter": "python",
   "pygments_lexer": "ipython3",
   "version": "3.8.8"
  }
 },
 "nbformat": 4,
 "nbformat_minor": 5
}
