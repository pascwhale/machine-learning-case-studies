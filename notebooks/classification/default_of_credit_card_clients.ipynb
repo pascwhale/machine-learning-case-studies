{
 "cells": [
  {
   "cell_type": "markdown",
   "metadata": {},
   "source": [
    "# Default of Credit Card Clients Data Set\n",
    "## Description\n",
    "\n",
    "Classifies the probability of default of customers' in Taiwan described by social and financial attributes.\n",
    "\n",
    "The column attributes are as follows:\n",
    "\n",
    "| Id | Attribute |Domain |\n",
    "| -   | ----------- |----------- |\n",
    "| 1   | Amount of the given credit (NT dollar) | numerical |\n",
    "| 2   | Gender | 1 = male, 2 = female |\n",
    "| 3   | Education | 1 = graduate school, 2 = university, 3 = high school, 4 = others |\n",
    "| 4   | Marital status | 1 = married, 2 = single, 3 = others |\n",
    "| 5   | Age (year) | numerical |\n",
    "| 6   | Payment record of september 2005 | -1 = pay duly, 1 = payment delay for one month, 2 = payment delay for two months, . . ., 8 = payment delay for eight months, 9 = payment delay for nine months and above. |\n",
    "| 7   | Payment record of august 2005 | -1 = pay duly, 1 = payment delay for one month, 2 = payment delay for two months, . . ., 8 = payment delay for eight months, 9 = payment delay for nine months and above. |\n",
    "| 8   | Payment record of july 2005 | -1 = pay duly, 1 = payment delay for one month, 2 = payment delay for two months, . . ., 8 = payment delay for eight months, 9 = payment delay for nine months and above. |\n",
    "| 9   | Payment record of june 2005 | -1 = pay duly, 1 = payment delay for one month, 2 = payment delay for two months, . . ., 8 = payment delay for eight months, 9 = payment delay for nine months and above. |\n",
    "| 10  | Payment record of may 2005 | -1 = pay duly, 1 = payment delay for one month, 2 = payment delay for two months, . . ., 8 = payment delay for eight months, 9 = payment delay for nine months and above. |\n",
    "| 11  | Payment record of april 2005 | -1 = pay duly, 1 = payment delay for one month, 2 = payment delay for two months, . . ., 8 = payment delay for eight months, 9 = payment delay for nine months and above. |\n",
    "| 12  | Amount of bill statement of september 2005 (NT dollar) | numerical |\n",
    "| 13  | Amount of bill statement of august 2005 (NT dollar) | numerical |\n",
    "| 14  | Amount of bill statement of july 2005 (NT dollar) | numerical |\n",
    "| 15  | Amount of bill statement of june 2005 (NT dollar) | numerical |\n",
    "| 16  | Amount of bill statement of may 2005 (NT dollar) | numerical |\n",
    "| 17  | Amount of bill statement of april 2005 (NT dollar) | numerical |\n",
    "| 18  | Amount of previous statement of september 2005 (NT dollar) | numerical |\n",
    "| 19  | Amount of previous statement of august 2005 (NT dollar) | numerical |\n",
    "| 20  | Amount of previous statement of july 2005 (NT dollar) | numerical |\n",
    "| 21  | Amount of previous statement of june 2005 (NT dollar) | numerical |\n",
    "| 22  | Amount of previous statement of may 2005 (NT dollar) | numerical |\n",
    "| 23  | Amount of previous statement of april 2005 (NT dollar) | numerical |"
   ]
  },
  {
   "cell_type": "markdown",
   "metadata": {},
   "source": [
    "## Importin and processing dataset"
   ]
  },
  {
   "cell_type": "code",
   "execution_count": 2,
   "metadata": {},
   "outputs": [],
   "source": [
    "import os                        # for os.path.exists\n",
    "import json                      # for loading metadata\n",
    "import urllib                    # for downloading remote files \n",
    "import numpy as np\n",
    "import pandas as pd"
   ]
  },
  {
   "cell_type": "code",
   "execution_count": 6,
   "metadata": {},
   "outputs": [],
   "source": [
    "def download(remoteurl: str, localfile: str):\n",
    "    \"\"\"\n",
    "    Download remoteurl to localfile, unless localfile already exists.\n",
    "    Returns the localfile string.\n",
    "    \"\"\"\n",
    "    localfile = \"../../datasets/classification/\"+localfile\n",
    "    if not os.path.exists(localfile):\n",
    "        print(\"Downloading %s...\" % localfile)\n",
    "        filename, headers = urllib.request.urlretrieve(remoteurl, localfile)\n",
    "    return localfile"
   ]
  },
  {
   "cell_type": "code",
   "execution_count": 7,
   "metadata": {},
   "outputs": [],
   "source": [
    "data_file = download(\"https://archive.ics.uci.edu/ml/machine-learning-databases/00350/default%20of%20credit%20card%20clients.xls\", \"default-of-credit-card-clients.xls\")\n",
    "\n",
    "data = pd.read_excel(data_file, header = 1, index_col = 0)\n",
    "\n",
    "data = data.replace(\"?\", np.nan) \n",
    "data = data.dropna() \n",
    "\n",
    "X = (data.iloc[:,:data.shape[1]-1])\n",
    "y = (data.iloc[:,data.shape[1]-1:])\n",
    "\n",
    "X = X.to_numpy()\n",
    "y = y.to_numpy().flatten()"
   ]
  },
  {
   "cell_type": "markdown",
   "metadata": {},
   "source": [
    "## Importing libraries"
   ]
  },
  {
   "cell_type": "code",
   "execution_count": 10,
   "metadata": {},
   "outputs": [],
   "source": [
    "import matplotlib as mpl\n",
    "import matplotlib.pyplot as plt\n",
    "import sklearn\n",
    "import sklearn.tree\n",
    "import sklearn.neighbors\n",
    "import sklearn.ensemble\n",
    "from sklearn.naive_bayes import GaussianNB\n",
    "from sklearn.linear_model import LogisticRegression\n",
    "from sklearn.model_selection import train_test_split"
   ]
  },
  {
   "cell_type": "code",
   "execution_count": 13,
   "metadata": {},
   "outputs": [],
   "source": [
    "X_train, X_test, y_train, y_test = train_test_split(X,y, test_size=0.3, random_state=0)"
   ]
  },
  {
   "cell_type": "code",
   "execution_count": null,
   "metadata": {},
   "outputs": [],
   "source": []
  },
  {
   "cell_type": "code",
   "execution_count": null,
   "metadata": {},
   "outputs": [],
   "source": []
  }
 ],
 "metadata": {
  "kernelspec": {
   "display_name": "Python 3.8.8 64-bit ('base': conda)",
   "name": "python388jvsc74a57bd0b9828c955bab0c8fbce05acd98c90b029dc7e02db9d225b15c9f70e3fad9a000"
  },
  "language_info": {
   "codemirror_mode": {
    "name": "ipython",
    "version": 3
   },
   "file_extension": ".py",
   "mimetype": "text/x-python",
   "name": "python",
   "nbconvert_exporter": "python",
   "pygments_lexer": "ipython3",
   "version": "3.8.8"
  }
 },
 "nbformat": 4,
 "nbformat_minor": 2
}