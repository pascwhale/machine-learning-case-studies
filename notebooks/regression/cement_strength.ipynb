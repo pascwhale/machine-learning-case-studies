{
 "cells": [
  {
   "attachments": {},
   "cell_type": "markdown",
   "metadata": {},
   "source": [
    "# Cement strength \n",
    "## Description\n",
    "\n",
    "Data set of 1030 concrete curing samples with recorded data such as cement quantity, furnace slag, quantity of aggregate, and age. \n",
    "\n",
    "The column attributes are as follows:\n",
    "\n",
    "| Id | Attribute |Domain |\n",
    "| -   | ----------- |----------- |\n",
    "| 1   | cement | kg in a m3  |\n",
    "| 2   | blast furnace slag   | kg in a m3 |\n",
    "| 3   | fly ash | kg in a m3 | \n",
    "| 4   |water | kg in a m3 |\n",
    "| 5   | superplasticizer | kg in a m3 |\n",
    "| 6   | coarse aggregate| kg in a m3 |\n",
    "| 7   | fine aggregate   |kg in a m3 |\n",
    "| 8   |  age| 1-356 |\n",
    "| 9   |compressive strength| MPa |\n"
   ]
  },
  {
   "cell_type": "markdown",
   "metadata": {},
   "source": [
    "## Importing and processing dataset"
   ]
  },
  {
   "cell_type": "code",
   "execution_count": 20,
   "metadata": {},
   "outputs": [],
   "source": [
    "import os                        # for os.path.exists\n",
    "import json                      # for loading metadata\n",
    "import urllib                    # for downloading remote files \n",
    "import numpy as np\n",
    "import pandas as pd\n",
    "from sklearn.preprocessing import StandardScaler"
   ]
  },
  {
   "cell_type": "code",
   "execution_count": 2,
   "metadata": {},
   "outputs": [],
   "source": [
    "def download(remoteurl: str, localfile: str):\n",
    "    \"\"\"\n",
    "    Download remoteurl to localfile, unless localfile already exists.\n",
    "    Returns the localfile string.\n",
    "    \"\"\"\n",
    "    localfile = \"../../datasets/classification/\"+localfile\n",
    "    if not os.path.exists(localfile):\n",
    "        print(\"Downloading %s...\" % localfile)\n",
    "        filename, headers = urllib.request.urlretrieve(remoteurl, localfile)\n",
    "    return localfile"
   ]
  },
  {
   "cell_type": "code",
   "execution_count": 3,
   "metadata": {},
   "outputs": [],
   "source": [
    "concrete_data = download(\"http://archive.ics.uci.edu/ml/machine-learning-databases/concrete/compressive/Concrete_Data.xls\",\"concrete-data\")\n",
    "headers = [\"cement\",\"slag\",\"ash\",\"water\",\"superplasticizer\",\"coarse\",\"fine\",\"age\",\"strength\"]\n",
    "concrete_df = pd.read_excel(concrete_data, names = headers)"
   ]
  },
  {
   "cell_type": "markdown",
   "metadata": {},
   "source": [
    "## Feature selection"
   ]
  },
  {
   "cell_type": "code",
   "execution_count": 4,
   "metadata": {},
   "outputs": [
    {
     "data": {
      "text/html": [
       "<div>\n",
       "<style scoped>\n",
       "    .dataframe tbody tr th:only-of-type {\n",
       "        vertical-align: middle;\n",
       "    }\n",
       "\n",
       "    .dataframe tbody tr th {\n",
       "        vertical-align: top;\n",
       "    }\n",
       "\n",
       "    .dataframe thead th {\n",
       "        text-align: right;\n",
       "    }\n",
       "</style>\n",
       "<table border=\"1\" class=\"dataframe\">\n",
       "  <thead>\n",
       "    <tr style=\"text-align: right;\">\n",
       "      <th></th>\n",
       "      <th>cement</th>\n",
       "      <th>slag</th>\n",
       "      <th>ash</th>\n",
       "      <th>water</th>\n",
       "      <th>superplasticizer</th>\n",
       "      <th>coarse</th>\n",
       "      <th>fine</th>\n",
       "      <th>age</th>\n",
       "      <th>strength</th>\n",
       "    </tr>\n",
       "  </thead>\n",
       "  <tbody>\n",
       "    <tr>\n",
       "      <th>0</th>\n",
       "      <td>540.0</td>\n",
       "      <td>0.0</td>\n",
       "      <td>0.0</td>\n",
       "      <td>162.0</td>\n",
       "      <td>2.5</td>\n",
       "      <td>1040.0</td>\n",
       "      <td>676.0</td>\n",
       "      <td>28</td>\n",
       "      <td>79.986111</td>\n",
       "    </tr>\n",
       "    <tr>\n",
       "      <th>1</th>\n",
       "      <td>540.0</td>\n",
       "      <td>0.0</td>\n",
       "      <td>0.0</td>\n",
       "      <td>162.0</td>\n",
       "      <td>2.5</td>\n",
       "      <td>1055.0</td>\n",
       "      <td>676.0</td>\n",
       "      <td>28</td>\n",
       "      <td>61.887366</td>\n",
       "    </tr>\n",
       "    <tr>\n",
       "      <th>2</th>\n",
       "      <td>332.5</td>\n",
       "      <td>142.5</td>\n",
       "      <td>0.0</td>\n",
       "      <td>228.0</td>\n",
       "      <td>0.0</td>\n",
       "      <td>932.0</td>\n",
       "      <td>594.0</td>\n",
       "      <td>270</td>\n",
       "      <td>40.269535</td>\n",
       "    </tr>\n",
       "    <tr>\n",
       "      <th>3</th>\n",
       "      <td>332.5</td>\n",
       "      <td>142.5</td>\n",
       "      <td>0.0</td>\n",
       "      <td>228.0</td>\n",
       "      <td>0.0</td>\n",
       "      <td>932.0</td>\n",
       "      <td>594.0</td>\n",
       "      <td>365</td>\n",
       "      <td>41.052780</td>\n",
       "    </tr>\n",
       "    <tr>\n",
       "      <th>4</th>\n",
       "      <td>198.6</td>\n",
       "      <td>132.4</td>\n",
       "      <td>0.0</td>\n",
       "      <td>192.0</td>\n",
       "      <td>0.0</td>\n",
       "      <td>978.4</td>\n",
       "      <td>825.5</td>\n",
       "      <td>360</td>\n",
       "      <td>44.296075</td>\n",
       "    </tr>\n",
       "  </tbody>\n",
       "</table>\n",
       "</div>"
      ],
      "text/plain": [
       "   cement   slag  ash  water  superplasticizer  coarse   fine  age   strength\n",
       "0   540.0    0.0  0.0  162.0               2.5  1040.0  676.0   28  79.986111\n",
       "1   540.0    0.0  0.0  162.0               2.5  1055.0  676.0   28  61.887366\n",
       "2   332.5  142.5  0.0  228.0               0.0   932.0  594.0  270  40.269535\n",
       "3   332.5  142.5  0.0  228.0               0.0   932.0  594.0  365  41.052780\n",
       "4   198.6  132.4  0.0  192.0               0.0   978.4  825.5  360  44.296075"
      ]
     },
     "execution_count": 4,
     "metadata": {},
     "output_type": "execute_result"
    }
   ],
   "source": [
    "concrete_df.head()"
   ]
  },
  {
   "cell_type": "code",
   "execution_count": 5,
   "metadata": {},
   "outputs": [],
   "source": [
    "X = (concrete_df.iloc[:,:concrete_df.shape[1]-1]).to_numpy()\n",
    "y = concrete_df.iloc[:,concrete_df.shape[1]-1:concrete_df.shape[1]].to_numpy().flatten()"
   ]
  },
  {
   "cell_type": "markdown",
   "metadata": {},
   "source": [
    "## Scaling features"
   ]
  },
  {
   "cell_type": "code",
   "execution_count": 6,
   "metadata": {},
   "outputs": [],
   "source": [
    "scaler = StandardScaler().fit(X)\n",
    "X_scaled = scaler.transform(X)\n",
    "\n"
   ]
  },
  {
   "cell_type": "markdown",
   "metadata": {},
   "source": [
    "## Importing libraries"
   ]
  },
  {
   "cell_type": "code",
   "execution_count": 7,
   "metadata": {},
   "outputs": [],
   "source": [
    "import matplotlib as mpl\n",
    "import matplotlib.pyplot as plt\n",
    "import sklearn\n",
    "from sklearn.linear_model import LinearRegression\n",
    "from sklearn.tree import DecisionTreeRegressor\n",
    "from sklearn.svm import SVR\n",
    "from sklearn.ensemble import RandomForestRegressor\n",
    "from sklearn.ensemble import AdaBoostRegressor\n",
    "from sklearn.neighbors import KNeighborsRegressor\n",
    "from sklearn.gaussian_process import GaussianProcessRegressor\n",
    "from sklearn.model_selection import train_test_split"
   ]
  },
  {
   "cell_type": "markdown",
   "metadata": {},
   "source": [
    "## Define training and plotting methods"
   ]
  },
  {
   "cell_type": "code",
   "execution_count": 8,
   "metadata": {},
   "outputs": [],
   "source": [
    "def train_estimators(X, y, estimator_type, param_name, param_vals, **kwargs):\n",
    "    \"\"\"\n",
    "    \n",
    "    Trains multiple instances of `estimator_type` on (X, y) by setting argument\n",
    "    named `param_name` to each value in `param_vals`. Prints a message before\n",
    "    training each instance. Returns the list of trained estimators.\n",
    "    \n",
    "    For example:\n",
    "    \n",
    "       >>> train_estimators(X, y, DecisionTreeClassifier, 'max_depth', [1, 5, 10],\n",
    "                            splitter='random', random_state=0)\n",
    "    \n",
    "       Training DecisionTreeClassifier(max_depth=1, random_state=0, splitter='random')...\n",
    "       Training DecisionTreeClassifier(max_depth=5, random_state=0, splitter='random')...\n",
    "       Training DecisionTreeClassifier(max_depth=10, random_state=0, splitter='random')...\n",
    "\n",
    "       [DecisionTreeClassifier(max_depth=1, random_state=0, splitter='random'),\n",
    "        DecisionTreeClassifier(max_depth=5, random_state=0, splitter='random'),\n",
    "        DecisionTreeClassifier(max_depth=10, random_state=0, splitter='random')] \n",
    "    \"\"\"\n",
    "    # Your implementation here. Aim for 5-10 lines.\n",
    "    estimators = []\n",
    "    extra_params = ''\n",
    "\n",
    "    for arg in kwargs:\n",
    "        extra_params = extra_params + str(arg) + '=' + str(kwargs[arg])+ ', ' \n",
    "        \n",
    "    for val in param_vals:\n",
    "        estimator = estimator_type(**{param_name : val}, **kwargs).fit(X,y)\n",
    "        estimators.append(estimator)\n",
    "        print('Training' + ' ' +str(estimator.__class__.__name__) +'(' + str(param_name) + '=' + str(val) + ', ' + extra_params + ')...')\n",
    "\n",
    "    return estimators;"
   ]
  },
  {
   "cell_type": "code",
   "execution_count": 9,
   "metadata": {},
   "outputs": [],
   "source": [
    "def plot_estimator_scores(estimators, param_name, param_vals):\n",
    "    \"\"\"\n",
    "    Plots the training, validation, and testing scores of a list of estimators,\n",
    "    where `param_name` and `param_vals` are the same as for `train_estimators`.\n",
    "    The estimator with best validation score will be highlighted with an 'x'.\n",
    "    \"\"\"\n",
    "    # Your implementation here. Use as many lines as you need.\n",
    "\n",
    "    N = len(param_vals)\n",
    "    x2 = np.arange(N)\n",
    "    \n",
    "    training_scores = score_estimators(X_train, y_train, estimators)\n",
    "    test_scores = score_estimators(X_test, y_test, estimators)\n",
    "    val_scores = score_estimators(X_val, y_val, estimators)\n",
    "    \n",
    "    val_score_index = val_scores.index(np.max(val_scores))\n",
    "    \n",
    "    plt.plot(x2, training_scores, '-ok', color = 'g', label = 'train')\n",
    "    plt.plot(x2, val_scores, '-ok',color = 'r', label = 'val') \n",
    "    plt.plot(x2, test_scores, linestyle='dashed', color = \"k\",label = 'test' )\n",
    "    plt.plot(4,np.max(val_scores), marker = 'x', color = 'r', markersize = 16)\n",
    "    \n",
    "    plt.legend()\n",
    "    plt.xticks(x2,param_vals)\n",
    "    plt.ylim(ymin=0)\n",
    "    plt.title(str(estimators[0].__class__.__name__) +' '+ 'score vs '  + str(param_name))\n",
    "    plt.text(4, 0.31,'train = ' + str(training_scores[val_score_index])[:5], color='green')\n",
    "    plt.text(4, 0.24, 'val = ' + str(val_scores[val_score_index])[:5], color='red')\n",
    "    plt.text(4, 0.17, 'test = ' + str(test_scores[val_score_index])[:5])\n",
    "    plt.figure()"
   ]
  },
  {
   "cell_type": "code",
   "execution_count": 10,
   "metadata": {},
   "outputs": [],
   "source": [
    "def score_estimators(X, y, estimators):\n",
    "    \"\"\"Scores each estimator on (X, y), returning a list of scores.\"\"\"\n",
    "    scores = []\n",
    "    for estimator in estimators:\n",
    "        scores.append(estimator.score(X,y))\n",
    "    return scores"
   ]
  },
  {
   "cell_type": "markdown",
   "metadata": {},
   "source": [
    "# Training various classifiers\n",
    "## Splitting the data into training, testing, and validation sets"
   ]
  },
  {
   "cell_type": "code",
   "execution_count": 11,
   "metadata": {},
   "outputs": [],
   "source": [
    "# Your code here. Aim for 2-3 lines.\n",
    "X_train, X_test, y_train, y_test= train_test_split(X_scaled, y, train_size=0.80, test_size = 0.20, random_state=0)\n",
    "X_train, X_val, y_train, y_val= train_test_split(X_train, y_train, train_size=0.75, test_size = 0.25, random_state=0)"
   ]
  },
  {
   "cell_type": "markdown",
   "metadata": {},
   "source": [
    "## Linear Regression"
   ]
  },
  {
   "cell_type": "code",
   "execution_count": 12,
   "metadata": {},
   "outputs": [
    {
     "name": "stdout",
     "output_type": "stream",
     "text": [
      "[0.5985301886192993, 0.6434420380340891, 0.6353634208212925]\n"
     ]
    }
   ],
   "source": [
    "LinearRegressionEstimators = LinearRegression().fit(X_scaled, y)\n",
    "LR_train_score = LinearRegressionEstimators.score(X_train, y_train)\n",
    "LR_test_score = LinearRegressionEstimators.score(X_test, y_test)\n",
    "LR_val_score = LinearRegressionEstimators.score(X_val, y_val)\n",
    "LR_scores = [LR_train_score,LR_test_score,LR_val_score]\n",
    "print(LR_scores)"
   ]
  },
  {
   "cell_type": "markdown",
   "metadata": {},
   "source": [
    "NOTE : No reasonable amount of feature selection will beat using all the feature for linear regression."
   ]
  },
  {
   "cell_type": "markdown",
   "metadata": {},
   "source": [
    "## SVM Regression"
   ]
  },
  {
   "cell_type": "code",
   "execution_count": 13,
   "metadata": {},
   "outputs": [
    {
     "name": "stdout",
     "output_type": "stream",
     "text": [
      "Training SVR(C=0.01, gamma=0.0001, max_iter=10000, )...\n",
      "Training SVR(C=0.1, gamma=0.0001, max_iter=10000, )...\n",
      "Training SVR(C=1.0, gamma=0.0001, max_iter=10000, )...\n",
      "Training SVR(C=10.0, gamma=0.0001, max_iter=10000, )...\n",
      "Training SVR(C=100.0, gamma=0.0001, max_iter=10000, )...\n",
      "Training SVR(C=1000.0, gamma=0.0001, max_iter=10000, )...\n"
     ]
    },
    {
     "name": "stderr",
     "output_type": "stream",
     "text": [
      "<ipython-input-9-b1055e0afb51>:18: UserWarning: color is redundantly defined by the 'color' keyword argument and the fmt string \"-ok\" (-> color='k'). The keyword argument will take precedence.\n",
      "  plt.plot(x2, training_scores, '-ok', color = 'g', label = 'train')\n",
      "<ipython-input-9-b1055e0afb51>:19: UserWarning: color is redundantly defined by the 'color' keyword argument and the fmt string \"-ok\" (-> color='k'). The keyword argument will take precedence.\n",
      "  plt.plot(x2, val_scores, '-ok',color = 'r', label = 'val')\n"
     ]
    },
    {
     "data": {
      "image/png": "[encoded data removed]",
      "text/plain": [
       "<Figure size 432x288 with 1 Axes>"
      ]
     },
     "metadata": {
      "needs_background": "light"
     },
     "output_type": "display_data"
    },
    {
     "data": {
      "text/plain": [
       "<Figure size 432x288 with 0 Axes>"
      ]
     },
     "metadata": {},
     "output_type": "display_data"
    }
   ],
   "source": [
    "SVMEstimator = train_estimators(X_train, y_train, sklearn.svm.SVR,\n",
    "                                   'C', [0.01, 0.1,1.0,10.0,100.0,1000.0],gamma=0.0001,max_iter=10000)\n",
    "plot_estimator_scores(SVMEstimator,'C',[0.01, 0.1,1.0,10.0,100.0,1000.0])"
   ]
  },
  {
   "cell_type": "markdown",
   "metadata": {},
   "source": [
    "## Decision Tree Regression"
   ]
  },
  {
   "cell_type": "code",
   "execution_count": 14,
   "metadata": {},
   "outputs": [
    {
     "name": "stdout",
     "output_type": "stream",
     "text": [
      "Training DecisionTreeRegressor(max_depth=1, splitter=random, random_state=0, )...\n",
      "Training DecisionTreeRegressor(max_depth=5, splitter=random, random_state=0, )...\n",
      "Training DecisionTreeRegressor(max_depth=10, splitter=random, random_state=0, )...\n",
      "Training DecisionTreeRegressor(max_depth=20, splitter=random, random_state=0, )...\n",
      "Training DecisionTreeRegressor(max_depth=50, splitter=random, random_state=0, )...\n",
      "Training DecisionTreeRegressor(max_depth=100, splitter=random, random_state=0, )...\n"
     ]
    },
    {
     "name": "stderr",
     "output_type": "stream",
     "text": [
      "<ipython-input-9-b1055e0afb51>:18: UserWarning: color is redundantly defined by the 'color' keyword argument and the fmt string \"-ok\" (-> color='k'). The keyword argument will take precedence.\n",
      "  plt.plot(x2, training_scores, '-ok', color = 'g', label = 'train')\n",
      "<ipython-input-9-b1055e0afb51>:19: UserWarning: color is redundantly defined by the 'color' keyword argument and the fmt string \"-ok\" (-> color='k'). The keyword argument will take precedence.\n",
      "  plt.plot(x2, val_scores, '-ok',color = 'r', label = 'val')\n"
     ]
    },
    {
     "data": {
      "image/png": "[encoded data removed]",
      "text/plain": [
       "<Figure size 432x288 with 1 Axes>"
      ]
     },
     "metadata": {
      "needs_background": "light"
     },
     "output_type": "display_data"
    },
    {
     "data": {
      "text/plain": [
       "<Figure size 432x288 with 0 Axes>"
      ]
     },
     "metadata": {},
     "output_type": "display_data"
    }
   ],
   "source": [
    "DecisionTreeEstimators = train_estimators(X_train, y_train, DecisionTreeRegressor,\n",
    "                                   'max_depth', [1, 5, 10,20,50,100], splitter='random', random_state=0)\n",
    "plot_estimator_scores(DecisionTreeEstimators,'max_depth',[1, 5, 10,20,50,100])"
   ]
  },
  {
   "cell_type": "markdown",
   "metadata": {},
   "source": [
    "## RandomForest Regressor"
   ]
  },
  {
   "cell_type": "code",
   "execution_count": 19,
   "metadata": {},
   "outputs": [
    {
     "name": "stdout",
     "output_type": "stream",
     "text": [
      "Training RandomForestRegressor(max_depth=1, random_state=0, )...\n",
      "Training RandomForestRegressor(max_depth=5, random_state=0, )...\n",
      "Training RandomForestRegressor(max_depth=10, random_state=0, )...\n",
      "Training RandomForestRegressor(max_depth=20, random_state=0, )...\n",
      "Training RandomForestRegressor(max_depth=50, random_state=0, )...\n",
      "Training RandomForestRegressor(max_depth=100, random_state=0, )...\n"
     ]
    },
    {
     "name": "stderr",
     "output_type": "stream",
     "text": [
      "<ipython-input-9-b1055e0afb51>:18: UserWarning: color is redundantly defined by the 'color' keyword argument and the fmt string \"-ok\" (-> color='k'). The keyword argument will take precedence.\n",
      "  plt.plot(x2, training_scores, '-ok', color = 'g', label = 'train')\n",
      "<ipython-input-9-b1055e0afb51>:19: UserWarning: color is redundantly defined by the 'color' keyword argument and the fmt string \"-ok\" (-> color='k'). The keyword argument will take precedence.\n",
      "  plt.plot(x2, val_scores, '-ok',color = 'r', label = 'val')\n"
     ]
    },
    {
     "data": {
      "image/png": "[encoded data removed]",
      "text/plain": [
       "<Figure size 432x288 with 1 Axes>"
      ]
     },
     "metadata": {
      "needs_background": "light"
     },
     "output_type": "display_data"
    },
    {
     "data": {
      "text/plain": [
       "<Figure size 432x288 with 0 Axes>"
      ]
     },
     "metadata": {},
     "output_type": "display_data"
    }
   ],
   "source": [
    "RandomTreeEstimators = train_estimators(X_train, y_train, RandomForestRegressor,\n",
    "                                   'max_depth', [1, 5, 10,20,50,100], random_state=0)\n",
    "plot_estimator_scores(RandomTreeEstimators,'max_depth',[1, 5, 10,20,50,100])"
   ]
  },
  {
   "cell_type": "markdown",
   "metadata": {},
   "source": [
    "## K-nearest Regressor"
   ]
  },
  {
   "cell_type": "code",
   "execution_count": 16,
   "metadata": {},
   "outputs": [
    {
     "name": "stdout",
     "output_type": "stream",
     "text": [
      "Training KNeighborsRegressor(weights=uniform, n_neighbors=2, )...\n",
      "Training KNeighborsRegressor(weights=distance, n_neighbors=2, )...\n",
      "Training KNeighborsRegressor(algorithm=auto, n_neighbors=2, )...\n",
      "Training KNeighborsRegressor(algorithm=ball_tree, n_neighbors=2, )...\n",
      "Training KNeighborsRegressor(algorithm=kd_tree, n_neighbors=2, )...\n",
      "Training KNeighborsRegressor(algorithm=brute, n_neighbors=2, )...\n"
     ]
    },
    {
     "name": "stderr",
     "output_type": "stream",
     "text": [
      "<ipython-input-9-b1055e0afb51>:18: UserWarning: color is redundantly defined by the 'color' keyword argument and the fmt string \"-ok\" (-> color='k'). The keyword argument will take precedence.\n",
      "  plt.plot(x2, training_scores, '-ok', color = 'g', label = 'train')\n",
      "<ipython-input-9-b1055e0afb51>:19: UserWarning: color is redundantly defined by the 'color' keyword argument and the fmt string \"-ok\" (-> color='k'). The keyword argument will take precedence.\n",
      "  plt.plot(x2, val_scores, '-ok',color = 'r', label = 'val')\n",
      "<ipython-input-9-b1055e0afb51>:18: UserWarning: color is redundantly defined by the 'color' keyword argument and the fmt string \"-ok\" (-> color='k'). The keyword argument will take precedence.\n",
      "  plt.plot(x2, training_scores, '-ok', color = 'g', label = 'train')\n",
      "<ipython-input-9-b1055e0afb51>:19: UserWarning: color is redundantly defined by the 'color' keyword argument and the fmt string \"-ok\" (-> color='k'). The keyword argument will take precedence.\n",
      "  plt.plot(x2, val_scores, '-ok',color = 'r', label = 'val')\n"
     ]
    },
    {
     "data": {
      "image/png": "[encoded data removed]",
      "text/plain": [
       "<Figure size 432x288 with 1 Axes>"
      ]
     },
     "metadata": {
      "needs_background": "light"
     },
     "output_type": "display_data"
    },
    {
     "data": {
      "image/png": "[encoded data removed]",
      "text/plain": [
       "<Figure size 432x288 with 1 Axes>"
      ]
     },
     "metadata": {
      "needs_background": "light"
     },
     "output_type": "display_data"
    },
    {
     "data": {
      "text/plain": [
       "<Figure size 432x288 with 0 Axes>"
      ]
     },
     "metadata": {},
     "output_type": "display_data"
    }
   ],
   "source": [
    "KNearestEstimators = train_estimators(X_train, y_train, KNeighborsRegressor,\n",
    "                                      'weights', ['uniform','distance'],n_neighbors=2)\n",
    "plot_estimator_scores(KNearestEstimators,'weights', ['uniform','distance'])\n",
    "\n",
    "KNearestEstimators = train_estimators(X_train, y_train, KNeighborsRegressor,\n",
    "                                      'algorithm', ['auto', 'ball_tree', 'kd_tree','brute'],n_neighbors=2)\n",
    "plot_estimator_scores(KNearestEstimators,'algorithm', ['auto', 'ball_tree', 'kd_tree','brute'])\n"
   ]
  },
  {
   "cell_type": "markdown",
   "metadata": {},
   "source": [
    "## Ada Boost Regression"
   ]
  },
  {
   "cell_type": "code",
   "execution_count": 17,
   "metadata": {},
   "outputs": [
    {
     "name": "stdout",
     "output_type": "stream",
     "text": [
      "Training AdaBoostRegressor(n_estimators=10, random_state=0, )...\n",
      "Training AdaBoostRegressor(n_estimators=50, random_state=0, )...\n",
      "Training AdaBoostRegressor(n_estimators=100, random_state=0, )...\n",
      "Training AdaBoostRegressor(n_estimators=500, random_state=0, )...\n",
      "Training AdaBoostRegressor(n_estimators=1000, random_state=0, )...\n",
      "Training AdaBoostRegressor(n_estimators=5000, random_state=0, )...\n"
     ]
    },
    {
     "name": "stderr",
     "output_type": "stream",
     "text": [
      "<ipython-input-9-b1055e0afb51>:18: UserWarning: color is redundantly defined by the 'color' keyword argument and the fmt string \"-ok\" (-> color='k'). The keyword argument will take precedence.\n",
      "  plt.plot(x2, training_scores, '-ok', color = 'g', label = 'train')\n",
      "<ipython-input-9-b1055e0afb51>:19: UserWarning: color is redundantly defined by the 'color' keyword argument and the fmt string \"-ok\" (-> color='k'). The keyword argument will take precedence.\n",
      "  plt.plot(x2, val_scores, '-ok',color = 'r', label = 'val')\n"
     ]
    },
    {
     "data": {
      "image/png": "[encoded data removed]",
      "text/plain": [
       "<Figure size 432x288 with 1 Axes>"
      ]
     },
     "metadata": {
      "needs_background": "light"
     },
     "output_type": "display_data"
    },
    {
     "data": {
      "text/plain": [
       "<Figure size 432x288 with 0 Axes>"
      ]
     },
     "metadata": {},
     "output_type": "display_data"
    }
   ],
   "source": [
    "AdaBoostEstimators = train_estimators(X_train, y_train, AdaBoostRegressor,\n",
    "                                   'n_estimators', [10, 50, 100, 500, 1000, 5000], random_state=0)\n",
    "plot_estimator_scores(AdaBoostEstimators,'n_estimators',[10, 50, 100, 500, 1000, 5000])"
   ]
  },
  {
   "cell_type": "markdown",
   "metadata": {},
   "source": [
    "## Gaussian Process Regressor"
   ]
  },
  {
   "cell_type": "code",
   "execution_count": 18,
   "metadata": {},
   "outputs": [
    {
     "name": "stdout",
     "output_type": "stream",
     "text": [
      "-6.581174205668172 -8.539318876601744\n"
     ]
    }
   ],
   "source": [
    "clf = GaussianProcessRegressor()\n",
    "NaiveBayesRegressor=clf.fit(X_train, y_train)\n",
    "NB_test_scores =  NaiveBayesRegressor.score(X_test, y_test)\n",
    "NB_val_scores =  NaiveBayesRegressor.score(X_val, y_val)\n",
    "print(NB_val_scores,NB_test_scores)"
   ]
  },
  {
   "cell_type": "code",
   "execution_count": null,
   "metadata": {},
   "outputs": [],
   "source": []
  }
 ],
 "metadata": {
  "interpreter": {
   "hash": "6151f332f26dcde9b4e9a2d5bb7904271ea54c2018786e9b563d2c471a54dc4f"
  },
  "kernelspec": {
   "display_name": "Python 3 (ipykernel)",
   "language": "python",
   "name": "python3"
  },
  "language_info": {
   "codemirror_mode": {
    "name": "ipython",
    "version": 3
   },
   "file_extension": ".py",
   "mimetype": "text/x-python",
   "name": "python",
   "nbconvert_exporter": "python",
   "pygments_lexer": "ipython3",
   "version": "3.9.7"
  }
 },
 "nbformat": 4,
 "nbformat_minor": 2
}
