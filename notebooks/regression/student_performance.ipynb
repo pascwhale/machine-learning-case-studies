{
 "cells": [
  {
   "cell_type": "markdown",
   "metadata": {},
   "source": [
    "# Student Performance Data Set\n",
    "\n"
   ]
  },
  {
   "cell_type": "markdown",
   "metadata": {},
   "source": [
    "saved downloaded file as csv\n",
    "\n",
    "* 649 data points\n",
    "* 32 features\n",
    "* needs to be split manually into train and test --> 70/30 split\n",
    "\n",
    "source: http://archive.ics.uci.edu/ml/datasets/Student+Performance\n"
   ]
  },
  {
   "cell_type": "code",
   "execution_count": 20,
   "metadata": {},
   "outputs": [],
   "source": [
    "import numpy as np\n",
    "import sklearn.model_selection"
   ]
  },
  {
   "cell_type": "code",
   "execution_count": 21,
   "metadata": {},
   "outputs": [
    {
     "data": {
      "text/plain": "array(['\"GP\"', '\"F\"', '18', '\"U\"', '\"GT3\"', '\"A\"', '4', '4', '\"at_home\"',\n       '\"teacher\"', '\"course\"', '\"mother\"', '2', '2', '0', '\"yes\"',\n       '\"no\"', '\"no\"', '\"no\"', '\"yes\"', '\"yes\"', '\"no\"', '\"no\"', '4', '3',\n       '4', '1', '1', '3', '4', '\"0\"', '\"11\"'], dtype='<U12')"
     },
     "execution_count": 21,
     "metadata": {},
     "output_type": "execute_result"
    }
   ],
   "source": [
    "dataset = np.loadtxt(fname='../../datasets/regression/student-por.csv', delimiter=';', skiprows=1, dtype='str')\n",
    "y = dataset[:, -1]\n",
    "X = dataset[:, :-1]\n",
    "\n",
    "X[0]"
   ]
  },
  {
   "cell_type": "code",
   "execution_count": 22,
   "metadata": {},
   "outputs": [],
   "source": [
    "X_train, X_test, y_train, y_test = sklearn.model_selection.train_test_split(X,y, test_size=0.3, random_state=0);"
   ]
  }
 ],
 "metadata": {
  "kernelspec": {
   "display_name": "Python 3.8.8 64-bit ('base': conda)",
   "name": "python388jvsc74a57bd0b9828c955bab0c8fbce05acd98c90b029dc7e02db9d225b15c9f70e3fad9a000"
  },
  "language_info": {
   "name": "python",
   "version": ""
  },
  "orig_nbformat": 2
 },
 "nbformat": 4,
 "nbformat_minor": 2
}