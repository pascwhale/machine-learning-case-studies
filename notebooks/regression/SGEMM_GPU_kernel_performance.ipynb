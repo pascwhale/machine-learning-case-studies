{
 "cells": [
  {
   "cell_type": "markdown",
   "metadata": {},
   "source": [
    "# SGEMM GPU Kernel Performance"
   ]
  },
  {
   "cell_type": "markdown",
   "metadata": {},
   "source": [
    "## Description"
   ]
  },
  {
   "cell_type": "markdown",
   "metadata": {},
   "source": [
    "The SGEMM GPU Kernel Performance dataset measures the running time of a product between two matrices of size 2048 x 2048 using a parametrizable SGEMM GPU kernal with 241600 possible parameter contributions. Each of the combinations are representated by a single row in the dataset, along with 4 test runtimes in the last four columns.\r\n",
    "\r\n",
    "The column attributes are as follows:\r\n",
    "\r\n",
    "| Column Name | Notation | Range | Description |\r\n",
    "| - | - | - | - |\r\n",
    "| mwg | MWG | {16, 32, 64, 128} | Per-matrix 2D tiling at workgroup level |\r\n",
    "| nwg | NWG | {16, 32, 64, 128} | Per-matrix 2D tiling at workgroup level |\r\n",
    "| kwg | KWG | {16, 32} | Inner dimension of 2D tiling at workgroup level |\r\n",
    "| mdimc | MDIMC | {8, 16, 32} | Local workgroup size |\r\n",
    "| ndimc | NDIMC | {8, 16, 32} | Local workgroup size |\r\n",
    "| mdima | MDIMA | {8, 16, 32} | Local memory shape |\r\n",
    "| ndimb | NDIMB | {8, 16, 32} | Local memory shape |\r\n",
    "| kwi | KWI | {2, 8} | Kernel loop unrolling factor |\r\n",
    "| vwm | VWM | {1, 2, 4, 8} | Per-matrix vector widths for loading and storing |\r\n",
    "| vwn | VWN | {1, 2, 4, 8} | Per-matrix vector widths for loading and storing |\r\n",
    "| strm | STRM | {0, 1} | Enabling of stride for accessing off-chip memory within a single thread |\r\n",
    "| strn | STRN | {0, 1} | Enabling of stride for accessing off-chip memory within a single thread |\r\n",
    "| sa | SA | {0, 1} | Per-matrix manual caching of the 2D workgroup tile |\r\n",
    "| sb | SB | {0, 1} | Per-matrix manual caching of the 2D workgroup tile |\r\n",
    "| run1 | - | - | Run 1 result in milliseconds |\r\n",
    "| run2 | - | - | Run 2 result in milliseconds |\r\n",
    "| run3 | - | - | Run 3 result in milliseconds |\r\n",
    "| run4 | - | - | Run 4 result in milliseconds |\r\n",
    "\r\n",
    "[Source](http://archive.ics.uci.edu/ml/datasets/SGEMM+GPU+kernel+performance)"
   ]
  },
  {
   "cell_type": "markdown",
   "metadata": {},
   "source": [
    "## Importing the Dataset"
   ]
  },
  {
   "cell_type": "code",
   "execution_count": 1,
   "metadata": {},
   "outputs": [],
   "source": [
    "import pandas as pd\r\n",
    "\r\n",
    "column_names = ['mwg',\r\n",
    "                'nwg',\r\n",
    "                'kwg',\r\n",
    "                'mdimc',\r\n",
    "                'ndimc',\r\n",
    "                'mdima',\r\n",
    "                'ndimb',\r\n",
    "                'kwi',\r\n",
    "                'vwm',\r\n",
    "                'vwn',\r\n",
    "                'strm',\r\n",
    "                'strn',\r\n",
    "                'sa',\r\n",
    "                'sb',\r\n",
    "                'run1',\r\n",
    "                'run2',\r\n",
    "                'run3',\r\n",
    "                'run4']\r\n",
    "\r\n",
    "features = column_names[:-4]\r\n",
    "target = 'target'\r\n",
    "\r\n",
    "with open(\"../../datasets/regression/sgemm_product.csv\", \"r\") as dataset_file:\r\n",
    "    raw_data = pd.read_csv(dataset_file, delimiter=',', header=0, names=column_names)"
   ]
  },
  {
   "cell_type": "markdown",
   "metadata": {},
   "source": [
    "## Preparing the Dataset"
   ]
  },
  {
   "cell_type": "code",
   "execution_count": 2,
   "metadata": {},
   "outputs": [],
   "source": [
    "prepared_data = raw_data\r\n",
    "prepared_data['target'] = prepared_data[column_names[-4:]].mean(axis=1)"
   ]
  },
  {
   "cell_type": "markdown",
   "metadata": {},
   "source": [
    "The following block prints the shape and column datatypes of the processed dataset."
   ]
  },
  {
   "cell_type": "code",
   "execution_count": 3,
   "metadata": {},
   "outputs": [
    {
     "name": "stdout",
     "output_type": "stream",
     "text": [
      "(241600, 19)\n",
      "mwg         int64\n",
      "nwg         int64\n",
      "kwg         int64\n",
      "mdimc       int64\n",
      "ndimc       int64\n",
      "mdima       int64\n",
      "ndimb       int64\n",
      "kwi         int64\n",
      "vwm         int64\n",
      "vwn         int64\n",
      "strm        int64\n",
      "strn        int64\n",
      "sa          int64\n",
      "sb          int64\n",
      "run1      float64\n",
      "run2      float64\n",
      "run3      float64\n",
      "run4      float64\n",
      "target    float64\n",
      "dtype: object\n"
     ]
    }
   ],
   "source": [
    "print(prepared_data.shape)\r\n",
    "print(prepared_data.dtypes)"
   ]
  },
  {
   "cell_type": "markdown",
   "metadata": {},
   "source": [
    "## Preprocessing the Dataset"
   ]
  },
  {
   "cell_type": "code",
   "execution_count": 4,
   "metadata": {},
   "outputs": [],
   "source": [
    "from sklearn.model_selection import train_test_split\r\n",
    "\r\n",
    "X_full = prepared_data[features].copy()\r\n",
    "y_full = prepared_data[target].copy()\r\n",
    "\r\n",
    "# Split the dataset into two parts, one part training, the other, testing and validating.\r\n",
    "X_train, X_test_and_val, y_train, y_test_and_val = train_test_split(X_full, y_full, \r\n",
    "                                                        train_size=0.6,\r\n",
    "                                                        random_state=0)\r\n",
    "# Split the second part from the previous split into two parts, one part testing, the other, validating.\r\n",
    "X_test, X_val, y_test, y_val = train_test_split(X_test_and_val, y_test_and_val, \r\n",
    "                                                        train_size=0.5,\r\n",
    "                                                        random_state=0)"
   ]
  },
  {
   "cell_type": "code",
   "execution_count": 5,
   "metadata": {},
   "outputs": [],
   "source": [
    "from sklearn.preprocessing import StandardScaler\r\n",
    "\r\n",
    "scaler = StandardScaler()\r\n",
    "# Fit scaler to data then transform it.\r\n",
    "X_train_scaled = scaler.fit_transform(X_train)\r\n",
    "\r\n",
    "# Apply same transformation to test and validation data without fitting.\r\n",
    "X_test_scaled = scaler.transform(X_test)\r\n",
    "X_val_scaled = scaler.transform(X_val)"
   ]
  },
  {
   "cell_type": "markdown",
   "metadata": {},
   "source": [
    "## Training on Multiple Regressors"
   ]
  },
  {
   "cell_type": "code",
   "execution_count": 6,
   "metadata": {},
   "outputs": [],
   "source": [
    "#Manage imports \n",
    "from sklearn.linear_model import LinearRegression\n",
    "from sklearn.tree import DecisionTreeRegressor\n",
    "from sklearn.svm import SVR\n",
    "from sklearn.ensemble import RandomForestRegressor\n",
    "from sklearn.ensemble import AdaBoostRegressor\n",
    "from sklearn.neighbors import KNeighborsRegressor\n",
    "from sklearn.gaussian_process import GaussianProcessRegressor\n",
    "from sklearn.neural_network import MLPRegressor\n",
    "from utilities import train_estimators, plot_estimator_scores"
   ]
  },
  {
   "cell_type": "markdown",
   "metadata": {},
   "source": [
    "### Logistic Regression Classification"
   ]
  },
  {
   "cell_type": "code",
   "execution_count": 7,
   "metadata": {},
   "outputs": [
    {
     "name": "stdout",
     "output_type": "stream",
     "text": [
      "LR_train_score=0.4087357257864952, LR_test_score=0.40302393266756376, LR_val_score=0.40791975863078633\n"
     ]
    }
   ],
   "source": [
    "LinearRegressionEstimator = LinearRegression().fit(X_train_scaled, y_train)\r\n",
    "LR_train_score = LinearRegressionEstimator.score(X_train_scaled, y_train)\r\n",
    "LR_test_score = LinearRegressionEstimator.score(X_test_scaled, y_test)\r\n",
    "LR_val_score = LinearRegressionEstimator.score(X_val_scaled, y_val)\r\n",
    "print(f'{LR_train_score=}, {LR_test_score=}, {LR_val_score=}')"
   ]
  },
  {
   "cell_type": "markdown",
   "metadata": {},
   "source": [
    "### SVM Classification"
   ]
  },
  {
   "cell_type": "code",
   "execution_count": 8,
   "metadata": {},
   "outputs": [
    {
     "name": "stdout",
     "output_type": "stream",
     "text": [
      "Training SVR(C=0.01, gamma=0.0001, max_iter=10000)...\n"
     ]
    }
   ],
   "source": [
    "adjusted_parameter = 'C'\r\n",
    "adjusted_parameter_values = [0.01, 0.1, 1.0, 10.0, 100.0, 1000.0]\r\n",
    "\r\n",
    "SVMEstimators = train_estimators(X_train_scaled, y_train,\r\n",
    "                                    SVR,\r\n",
    "                                    adjusted_parameter, adjusted_parameter_values,\r\n",
    "                                    gamma=0.0001,\r\n",
    "                                    max_iter=10000)\r\n",
    "plot_estimator_scores(SVMEstimators,\r\n",
    "                        adjusted_parameter, adjusted_parameter_values,\r\n",
    "                        X_train_scaled, y_train, X_test_scaled, y_test, X_val_scaled, y_val)"
   ]
  },
  {
   "cell_type": "markdown",
   "metadata": {},
   "source": [
    "### Decision Tree Classification"
   ]
  },
  {
   "cell_type": "code",
   "execution_count": null,
   "metadata": {},
   "outputs": [],
   "source": [
    "adjusted_parameter = 'max_depth'\r\n",
    "adjusted_parameter_values = [1, 5, 10, 20, 50, 100]\r\n",
    "\r\n",
    "DecisionTreeEstimators = train_estimators(X_train_scaled, y_train,\r\n",
    "                                            DecisionTreeRegressor,\r\n",
    "                                            adjusted_parameter, adjusted_parameter_values,\r\n",
    "                                            splitter='random',\r\n",
    "                                            random_state=0)\r\n",
    "plot_estimator_scores(DecisionTreeEstimators,\r\n",
    "                        adjusted_parameter, adjusted_parameter_values,\r\n",
    "                        X_train_scaled, y_train, X_test_scaled, y_test, X_val_scaled, y_val)"
   ]
  },
  {
   "cell_type": "markdown",
   "metadata": {},
   "source": [
    "### Random Forest Classification"
   ]
  },
  {
   "cell_type": "code",
   "execution_count": null,
   "metadata": {},
   "outputs": [],
   "source": [
    "adjusted_parameter = 'max_depth'\r\n",
    "adjusted_parameter_values = [1, 5, 10, 20, 50, 100]\r\n",
    "\r\n",
    "RandomTreeEstimators = train_estimators(X_train_scaled, y_train,\r\n",
    "                                        RandomForestRegressor,\r\n",
    "                                        adjusted_parameter, adjusted_parameter_values,\r\n",
    "                                        random_state=0)\r\n",
    "plot_estimator_scores(RandomTreeEstimators,\r\n",
    "                        adjusted_parameter, adjusted_parameter_values,\r\n",
    "                        X_train_scaled, y_train, X_test_scaled, y_test, X_val_scaled, y_val)"
   ]
  },
  {
   "cell_type": "markdown",
   "metadata": {},
   "source": [
    "### K-Nearest Neighbours Classification"
   ]
  },
  {
   "cell_type": "code",
   "execution_count": null,
   "metadata": {},
   "outputs": [],
   "source": [
    "adjusted_parameter = 'weights'\r\n",
    "adjusted_parameter_values = ['uniform','distance']\r\n",
    "\r\n",
    "KNearestEstimators = train_estimators(X_train_scaled, y_train,\r\n",
    "                                        KNeighborsRegressor,\r\n",
    "                                        adjusted_parameter, adjusted_parameter_values,\r\n",
    "                                        n_neighbors=2)\r\n",
    "plot_estimator_scores(KNearestEstimators,\r\n",
    "                        adjusted_parameter, adjusted_parameter_values,\r\n",
    "                        X_train_scaled, y_train, X_test_scaled, y_test, X_val_scaled, y_val)"
   ]
  },
  {
   "cell_type": "code",
   "execution_count": null,
   "metadata": {},
   "outputs": [],
   "source": [
    "adjusted_parameter = 'algorithm'\r\n",
    "adjusted_parameter_values = ['auto', 'ball_tree', 'kd_tree','brute']\r\n",
    "\r\n",
    "KNearestEstimators = train_estimators(X_train_scaled, y_train,\r\n",
    "                                        KNeighborsRegressor,\r\n",
    "                                        adjusted_parameter, adjusted_parameter_values,\r\n",
    "                                        n_neighbors=2)\r\n",
    "plot_estimator_scores(KNearestEstimators,\r\n",
    "                        adjusted_parameter, adjusted_parameter_values,\r\n",
    "                        X_train_scaled, y_train, X_test_scaled, y_test, X_val_scaled, y_val)"
   ]
  },
  {
   "cell_type": "markdown",
   "metadata": {},
   "source": [
    "### Ada Boost Classification"
   ]
  },
  {
   "cell_type": "code",
   "execution_count": null,
   "metadata": {},
   "outputs": [
    {
     "name": "stderr",
     "output_type": "stream",
     "text": [
      "/home/matthew/anaconda3/lib/python3.8/site-packages/sklearn/svm/_base.py:255: ConvergenceWarning: Solver terminated early (max_iter=10000).  Consider pre-processing your data with StandardScaler or MinMaxScaler.\n",
      "  warnings.warn('Solver terminated early (max_iter=%i).'\n"
     ]
    },
    {
     "name": "stderr",
     "output_type": "stream",
     "text": [
      "/home/matthew/anaconda3/lib/python3.8/site-packages/sklearn/svm/_base.py:255: ConvergenceWarning: Solver terminated early (max_iter=10000).  Consider pre-processing your data with StandardScaler or MinMaxScaler.\n",
      "  warnings.warn('Solver terminated early (max_iter=%i).'\n"
     ]
    },
    {
     "name": "stderr",
     "output_type": "stream",
     "text": [
      "/home/matthew/anaconda3/lib/python3.8/site-packages/sklearn/svm/_base.py:255: ConvergenceWarning: Solver terminated early (max_iter=10000).  Consider pre-processing your data with StandardScaler or MinMaxScaler.\n",
      "  warnings.warn('Solver terminated early (max_iter=%i).'\n"
     ]
    },
    {
     "name": "stderr",
     "output_type": "stream",
     "text": [
      "/home/matthew/anaconda3/lib/python3.8/site-packages/sklearn/svm/_base.py:255: ConvergenceWarning: Solver terminated early (max_iter=10000).  Consider pre-processing your data with StandardScaler or MinMaxScaler.\n",
      "  warnings.warn('Solver terminated early (max_iter=%i).'\n"
     ]
    },
    {
     "name": "stderr",
     "output_type": "stream",
     "text": [
      "/home/matthew/anaconda3/lib/python3.8/site-packages/sklearn/svm/_base.py:255: ConvergenceWarning: Solver terminated early (max_iter=10000).  Consider pre-processing your data with StandardScaler or MinMaxScaler.\n",
      "  warnings.warn('Solver terminated early (max_iter=%i).'\n"
     ]
    },
    {
     "name": "stderr",
     "output_type": "stream",
     "text": [
      "/home/matthew/anaconda3/lib/python3.8/site-packages/sklearn/svm/_base.py:255: ConvergenceWarning: Solver terminated early (max_iter=10000).  Consider pre-processing your data with StandardScaler or MinMaxScaler.\n",
      "  warnings.warn('Solver terminated early (max_iter=%i).'\n"
     ]
    }
   ],
   "source": [
    "adjusted_parameter = 'n_estimators'\r\n",
    "adjusted_parameter_values = [10, 50, 100, 500, 1000, 5000]\r\n",
    "\r\n",
    "AdaBoostEstimators = train_estimators(X_train_scaled, y_train,\r\n",
    "                                        AdaBoostRegressor,\r\n",
    "                                        adjusted_parameter, adjusted_parameter_values,\r\n",
    "                                        random_state=0)\r\n",
    "plot_estimator_scores(AdaBoostEstimators,\r\n",
    "                        adjusted_parameter, adjusted_parameter_values,\r\n",
    "                        X_train_scaled, y_train, X_test_scaled, y_test, X_val_scaled, y_val)"
   ]
  },
  {
   "cell_type": "markdown",
   "metadata": {},
   "source": [
    "## Gaussian Naive Bayes Classification"
   ]
  },
  {
   "cell_type": "code",
   "execution_count": null,
   "metadata": {},
   "outputs": [],
   "source": [
    "gaussian_nb = GaussianProcessRegressor()\r\n",
    "NaiveBayesEstimator = gaussian_nb.fit(X_train, y_train)\r\n",
    "gaussian_nb_train_score = NaiveBayesEstimator.score(X_train, y_train)\r\n",
    "gaussian_nb_test_score =  NaiveBayesEstimator.score(X_test, y_test)\r\n",
    "gaussian_nb_val_score =  NaiveBayesEstimator.score(X_val, y_val)\r\n",
    "print(f'{gaussian_nb_train_score=}, {gaussian_nb_val_score=}, {gaussian_nb_test_score=}')"
   ]
  },
  {
   "cell_type": "markdown",
   "metadata": {},
   "source": [
    "### Neural Network Classification Through a Multi-Layer Perceptron"
   ]
  },
  {
   "cell_type": "code",
   "execution_count": null,
   "metadata": {},
   "outputs": [
    {
     "name": "stdout",
     "output_type": "stream",
     "text": [
      "Training Score: 0.44923836909690584\n",
      "Testing Score: 0.2888949194275736\n",
      "Validation Score: 0.518450875734716\n",
      "Training Score: 0.46450266987822963\n",
      "Testing Score: 0.232892939113723\n",
      "Validation Score: 0.4688600212225895\n"
     ]
    }
   ],
   "source": [
    "mlp = MLPRegressor(hidden_layer_sizes=(), activation='relu',\n",
    "                                            batch_size=100, max_iter=1000, learning_rate_init=0.01,\n",
    "                                            momentum=0.4, random_state=0, verbose=False).fit(X_train, y_train)\n",
    "\n",
    "print(f'Training Score: {mlp.score(X_train, y_train)}')\n",
    "print(f'Testing Score: {mlp.score(X_test, y_test)}')\n",
    "print(f'Validation Score: {mlp.score(X_val, y_val)}')\n",
    "\n",
    "mlp = MLPRegressor(hidden_layer_sizes=(32), activation='relu',\n",
    "                                            batch_size=100, max_iter=1000, learning_rate_init=0.001,\n",
    "                                            momentum=0.4, random_state=0, verbose=False).fit(X_train, y_train)\n",
    "\n",
    "print(f'Training Score: {mlp.score(X_train, y_train)}')\n",
    "print(f'Testing Score: {mlp.score(X_test, y_test)}')\n",
    "print(f'Validation Score: {mlp.score(X_val, y_val)}')"
   ]
  }
 ],
 "metadata": {
  "interpreter": {
   "hash": "6151f332f26dcde9b4e9a2d5bb7904271ea54c2018786e9b563d2c471a54dc4f"
  },
  "kernelspec": {
   "display_name": "Python 3.8.8 64-bit ('anaconda3': virtualenv)",
   "name": "python388jvsc74a57bd0b9828c955bab0c8fbce05acd98c90b029dc7e02db9d225b15c9f70e3fad9a000"
  },
  "language_info": {
   "codemirror_mode": {
    "name": "ipython",
    "version": 3
   },
   "file_extension": ".py",
   "mimetype": "text/x-python",
   "name": "python",
   "nbconvert_exporter": "python",
   "pygments_lexer": "ipython3",
   "version": "3.8.8"
  },
  "orig_nbformat": 4
 },
 "nbformat": 4,
 "nbformat_minor": 2
}