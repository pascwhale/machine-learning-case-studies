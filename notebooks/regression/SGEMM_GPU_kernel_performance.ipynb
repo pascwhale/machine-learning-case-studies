{
 "cells": [
  {
   "cell_type": "markdown",
   "source": [
    "# SGEMM GPU Kernel Performance"
   ],
   "metadata": {}
  },
  {
   "cell_type": "markdown",
   "source": [
    "## Description"
   ],
   "metadata": {}
  },
  {
   "cell_type": "markdown",
   "source": [
    "The SGEMM GPU Kernel Performance dataset measures the running time of a product between two matrices of size 2048 x 2048 using a parametrizable SGEMM GPU kernal with 241600 possible parameter contributions. Each of the combinations are representated by a single row in the dataset, along with 4 test runtimes in the last four columns.\r\n",
    "\r\n",
    "The column attributes are as follows:\r\n",
    "| Column Name | Notation | Range | Description |\r\n",
    "| - | - | - | - |\r\n",
    "| mwg | MWG | {16, 32, 64, 128} | Per-matrix 2D tiling at workgroup level |\r\n",
    "| nwg | NWG | {16, 32, 64, 128} | Per-matrix 2D tiling at workgroup level |\r\n",
    "| kwg | KWG | {16, 32} | Inner dimension of 2D tiling at workgroup level |\r\n",
    "| mdimc | MDIMC | {8, 16, 32} | Local workgroup size |\r\n",
    "| ndimc | NDIMC | {8, 16, 32} | Local workgroup size |\r\n",
    "| mdima | MDIMA | {8, 16, 32} | Local memory shape |\r\n",
    "| ndimb | NDIMB | {8, 16, 32} | Local memory shape |\r\n",
    "| kwi | KWI | {2, 8} | Kernel loop unrolling factor |\r\n",
    "| vwm | VWM | {1, 2, 4, 8} | Per-matrix vector widths for loading and storing |\r\n",
    "| vwn | VWN | {1, 2, 4, 8} | Per-matrix vector widths for loading and storing |\r\n",
    "| strm | STRM | {0, 1} | Enabling of stride for accessing off-chip memory within a single thread |\r\n",
    "| strn | STRN | {0, 1} | Enabling of stride for accessing off-chip memory within a single thread |\r\n",
    "| sa | SA | {0, 1} | Per-matrix manual caching of the 2D workgroup tile |\r\n",
    "| sb | SB | {0, 1} | Per-matrix manual caching of the 2D workgroup tile |\r\n",
    "| run1 | - | - | Run 1 result in milliseconds |\r\n",
    "| run2 | - | - | Run 2 result in milliseconds |\r\n",
    "| run3 | - | - | Run 3 result in milliseconds |\r\n",
    "| run4 | - | - | Run 4 result in milliseconds |\r\n",
    "\r\n",
    "[Source](http://archive.ics.uci.edu/ml/datasets/SGEMM+GPU+kernel+performance)"
   ],
   "metadata": {}
  },
  {
   "cell_type": "markdown",
   "source": [
    "## Importing the Dataset"
   ],
   "metadata": {}
  },
  {
   "cell_type": "code",
   "execution_count": null,
   "source": [
    "import pandas as pd\r\n",
    "\r\n",
    "column_names = ['mwg',\r\n",
    "                'nwg',\r\n",
    "                'kwg',\r\n",
    "                'mdimc',\r\n",
    "                'ndimc',\r\n",
    "                'mdima',\r\n",
    "                'ndimb',\r\n",
    "                'kwi',\r\n",
    "                'vwm',\r\n",
    "                'vwn',\r\n",
    "                'strm',\r\n",
    "                'strn',\r\n",
    "                'sa',\r\n",
    "                'sb',\r\n",
    "                'run1',\r\n",
    "                'run2',\r\n",
    "                'run3',\r\n",
    "                'run4']\r\n",
    "\r\n",
    "with open(\"..\\..\\datasets\\\\regression\\sgemm_product.csv\", \"r\") as dataset_file:\r\n",
    "    raw_data = pd.read_csv(dataset_file, delimiter=',', header=0, names=column_names)"
   ],
   "outputs": [],
   "metadata": {}
  },
  {
   "cell_type": "markdown",
   "source": [
    "## Preparing the Dataset"
   ],
   "metadata": {}
  },
  {
   "cell_type": "code",
   "execution_count": null,
   "source": [
    "# No preperations need to be done.\r\n",
    "processed_data = raw_data"
   ],
   "outputs": [],
   "metadata": {}
  },
  {
   "cell_type": "markdown",
   "source": [
    "The following block prints the shape and column datatypes of the processed dataset."
   ],
   "metadata": {}
  },
  {
   "cell_type": "code",
   "execution_count": null,
   "source": [
    "print(processed_data.shape)\r\n",
    "print(processed_data.dtypes)"
   ],
   "outputs": [],
   "metadata": {}
  }
 ],
 "metadata": {
  "orig_nbformat": 4,
  "language_info": {
   "name": "python",
   "version": "3.9.6",
   "mimetype": "text/x-python",
   "codemirror_mode": {
    "name": "ipython",
    "version": 3
   },
   "pygments_lexer": "ipython3",
   "nbconvert_exporter": "python",
   "file_extension": ".py"
  },
  "kernelspec": {
   "name": "python3",
   "display_name": "Python 3.9.6 64-bit ('comp432': conda)"
  },
  "interpreter": {
   "hash": "6151f332f26dcde9b4e9a2d5bb7904271ea54c2018786e9b563d2c471a54dc4f"
  }
 },
 "nbformat": 4,
 "nbformat_minor": 2
}