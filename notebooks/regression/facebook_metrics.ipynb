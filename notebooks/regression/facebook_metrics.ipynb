{
 "cells": [
  {
   "cell_type": "markdown",
   "source": [
    "# Facebook Metrics"
   ],
   "metadata": {}
  },
  {
   "cell_type": "markdown",
   "source": [
    "## Description"
   ],
   "metadata": {}
  },
  {
   "cell_type": "markdown",
   "source": [
    "The Facebook Metrics dataset contains 7 features known prior to publishing a post on a renowned cosmetics brand's Facebook page. The 12 metrics that follow are used to evaluate the impact of a post given the first 7 features.\r\n",
    "\r\n",
    "The column attributes are as follows:\r\n",
    "\r\n",
    "| Column Name | Description |\r\n",
    "| - | - |\r\n",
    "| page_likes | Total likes on the page |\r\n",
    "| post_type | Type of the post to be published |\r\n",
    "| post_category | Category of the post to be published |\r\n",
    "| month | Month of the date to be published |\r\n",
    "| weekday | Weekday of the date to be published |\r\n",
    "| hour | Hour of the date to be published |\r\n",
    "| cost | Sum paid in advertising the post to be published |\r\n",
    "| reach | Number of users reached in the post's lifetime |\r\n",
    "| impressions | Number of total impressions in the post's lifetime |\r\n",
    "| engagements | Number of users engaged in the post's lifetime |\r\n",
    "| consumers | Consumers gained in the post's lifetime |\r\n",
    "| consumptions | Comsumptions gained in the post's lifetime |\r\n",
    "| liked_impressions | Number of impressions in the post's lifetime by users who have liked the page |\r\n",
    "| liked_reach | Number of users reached in the post's lifetime by users who like the page |\r\n",
    "| liked_engagements | Number of users engaged in the post's lifetime by users who like the page |\r\n",
    "| comments | Number of comments |\r\n",
    "| likes | Number of likes |\r\n",
    "| shares | Number of shares |\r\n",
    "| interactions | Total number of interactions |\r\n",
    "\r\n",
    "[Source](http://archive.ics.uci.edu/ml/datasets/Facebook+metrics)"
   ],
   "metadata": {}
  },
  {
   "cell_type": "markdown",
   "source": [
    "## Importing the Dataset"
   ],
   "metadata": {}
  },
  {
   "cell_type": "code",
   "execution_count": null,
   "source": [
    "import pandas as pd\r\n",
    "\r\n",
    "column_names = ['page_likes',\r\n",
    "                'post_type',\r\n",
    "                'post_category',\r\n",
    "                'month',\r\n",
    "                'weekday',\r\n",
    "                'hour',\r\n",
    "                'cost',\r\n",
    "                'reach',\r\n",
    "                'impressions',\r\n",
    "                'engagements',\r\n",
    "                'consumers',\r\n",
    "                'consumptions',\r\n",
    "                'liked_impressions',\r\n",
    "                'liked_reach',\r\n",
    "                'liked_engagements',\r\n",
    "                'comments',\r\n",
    "                'likes',\r\n",
    "                'shares',\r\n",
    "                'interactions']\r\n",
    "\r\n",
    "with open(\"../../datasets/regression/dataset_Facebook.csv\", \"r\") as dataset_file:\r\n",
    "    raw_data = pd.read_csv(dataset_file, delimiter=';', header=0, names=column_names)"
   ],
   "outputs": [],
   "metadata": {}
  },
  {
   "cell_type": "markdown",
   "source": [
    "## Preparing the Dataset"
   ],
   "metadata": {}
  },
  {
   "cell_type": "code",
   "execution_count": null,
   "source": [
    "# No preperations need to be done.\r\n",
    "processed_data = raw_data"
   ],
   "outputs": [],
   "metadata": {}
  },
  {
   "cell_type": "markdown",
   "source": [
    "The following block prints the shape and column datatypes of the processed dataset."
   ],
   "metadata": {}
  },
  {
   "cell_type": "code",
   "execution_count": null,
   "source": [
    "print(processed_data.shape)\r\n",
    "print(processed_data.dtypes)"
   ],
   "outputs": [],
   "metadata": {}
  }
 ],
 "metadata": {
  "orig_nbformat": 4,
  "language_info": {
   "name": "python",
   "version": "3.9.6",
   "mimetype": "text/x-python",
   "codemirror_mode": {
    "name": "ipython",
    "version": 3
   },
   "pygments_lexer": "ipython3",
   "nbconvert_exporter": "python",
   "file_extension": ".py"
  },
  "kernelspec": {
   "name": "python3",
   "display_name": "Python 3.9.6 64-bit ('comp432': conda)"
  },
  "interpreter": {
   "hash": "6151f332f26dcde9b4e9a2d5bb7904271ea54c2018786e9b563d2c471a54dc4f"
  }
 },
 "nbformat": 4,
 "nbformat_minor": 2
}