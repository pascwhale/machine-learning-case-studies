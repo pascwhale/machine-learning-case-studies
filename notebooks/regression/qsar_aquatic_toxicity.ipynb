{
 "cells": [
  {
   "cell_type": "markdown",
   "source": [
    "# QSAR Aquatic Toxicity"
   ],
   "metadata": {}
  },
  {
   "cell_type": "markdown",
   "source": [
    "## Description"
   ],
   "metadata": {}
  },
  {
   "cell_type": "markdown",
   "source": [
    "The QSAR Aquatic Toxicity dataset predicts the aquatic toxicity towards the Pimephales Promelas and Daphina Magna fish species givem certain molecular properties and an experimental response.\r\n",
    "\r\n",
    "The column attributes are as follows:\r\n",
    "\r\n",
    "| Column Name | Property |\r\n",
    "| - | - |\r\n",
    "| tpsa | TPSA(tot) |\r\n",
    "| saacc | SAacc |\r\n",
    "| h050 | H-050 |\r\n",
    "| mlogp | MLOGP |\r\n",
    "| rdchi | RDCHI |\r\n",
    "| gats1p | GATS1p |\r\n",
    "| nn | nN |\r\n",
    "| c040 | C-040 |\r\n",
    "| lc50 | quantitative response, LC50 [-LOG(mol/L)] |\r\n",
    "\r\n",
    "[Source](http://archive.ics.uci.edu/ml/datasets/QSAR+aquatic+toxicity)"
   ],
   "metadata": {}
  },
  {
   "cell_type": "markdown",
   "source": [
    "## Importing the Dataset"
   ],
   "metadata": {}
  },
  {
   "cell_type": "code",
   "execution_count": null,
   "source": [
    "import pandas as pd\r\n",
    "\r\n",
    "column_names = ['tpsa',\r\n",
    "                'saacc',\r\n",
    "                'h050',\r\n",
    "                'mlogp',\r\n",
    "                'rdchi',\r\n",
    "                'gats1p',\r\n",
    "                'nn',\r\n",
    "                'c040',\r\n",
    "                'lc50']\r\n",
    "\r\n",
    "with open(\"../../datasets/regression/qsar_aquatic_toxicity.csv\", \"r\") as dataset_file:\r\n",
    "    raw_data = pd.read_csv(dataset_file, delimiter=';', names=column_names)"
   ],
   "outputs": [],
   "metadata": {}
  },
  {
   "cell_type": "markdown",
   "source": [
    "## Preparing the Dataset"
   ],
   "metadata": {}
  },
  {
   "cell_type": "code",
   "execution_count": null,
   "source": [
    "# No preperations need to be done.\r\n",
    "processed_data = raw_data"
   ],
   "outputs": [],
   "metadata": {}
  },
  {
   "cell_type": "markdown",
   "source": [
    "The following block prints the shape and column datatypes of the processed dataset."
   ],
   "metadata": {}
  },
  {
   "cell_type": "code",
   "execution_count": null,
   "source": [
    "print(processed_data.shape)\r\n",
    "print(processed_data.dtypes)"
   ],
   "outputs": [],
   "metadata": {}
  }
 ],
 "metadata": {
  "orig_nbformat": 4,
  "language_info": {
   "name": "python",
   "version": "3.9.6",
   "mimetype": "text/x-python",
   "codemirror_mode": {
    "name": "ipython",
    "version": 3
   },
   "pygments_lexer": "ipython3",
   "nbconvert_exporter": "python",
   "file_extension": ".py"
  },
  "kernelspec": {
   "name": "python3",
   "display_name": "Python 3.9.6 64-bit ('comp432': conda)"
  },
  "interpreter": {
   "hash": "6151f332f26dcde9b4e9a2d5bb7904271ea54c2018786e9b563d2c471a54dc4f"
  }
 },
 "nbformat": 4,
 "nbformat_minor": 2
}